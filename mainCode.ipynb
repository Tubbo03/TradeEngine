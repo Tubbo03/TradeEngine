{
 "cells": [
  {
   "cell_type": "code",
   "execution_count": 2,
   "metadata": {},
   "outputs": [],
   "source": [
    "import pandas as pd"
   ]
  },
  {
   "cell_type": "code",
   "execution_count": 3,
   "metadata": {},
   "outputs": [
    {
     "name": "stdout",
     "output_type": "stream",
     "text": [
      "  Timestamp    Asset   Price  Volume  Sentiment_Score  Economic_Indicator1  \\\n",
      "0   18:27.4  Asset_1  992.55     335             0.75               399.92   \n",
      "1   18:27.4  Asset_2  362.57     256             0.40               825.12   \n",
      "2   18:27.4  Asset_3  868.29     296             0.89               610.86   \n",
      "3   18:27.4  Asset_4  262.93     404             0.40               337.55   \n",
      "4   18:27.4  Asset_5  796.55     235             0.79               117.45   \n",
      "\n",
      "   Economic_Indicator2  Risk_Factor1  Risk_Factor2 Order          Strategy  \\\n",
      "0              1067.00          0.05          0.34  sell  Position Trading   \n",
      "1               728.60          0.23          0.94   buy          Scalping   \n",
      "2               968.72          0.07          0.81   buy     Swing Trading   \n",
      "3              1440.47          0.09          0.24   buy          Scalping   \n",
      "4              1483.75          0.38          0.79   buy       Day Trading   \n",
      "\n",
      "   Portfolio_Weights  Return  Volatility  Sharpe_Ratio  \n",
      "0               0.11  0.0356      0.2653          0.52  \n",
      "1               0.54  0.0417      0.2978          0.31  \n",
      "2               0.19  0.0243      0.1851          0.25  \n",
      "3               0.44 -0.0282      0.4344          0.51  \n",
      "4               0.28  0.0219      0.1090          0.22  \n"
     ]
    }
   ],
   "source": [
    "df = pd.read_csv('Dataset.csv')\n",
    "print(df.head())"
   ]
  }
 ],
 "metadata": {
  "kernelspec": {
   "display_name": "Python 3",
   "language": "python",
   "name": "python3"
  },
  "language_info": {
   "codemirror_mode": {
    "name": "ipython",
    "version": 3
   },
   "file_extension": ".py",
   "mimetype": "text/x-python",
   "name": "python",
   "nbconvert_exporter": "python",
   "pygments_lexer": "ipython3",
   "version": "3.12.3"
  }
 },
 "nbformat": 4,
 "nbformat_minor": 2
}
