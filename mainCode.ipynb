{
 "cells": [
  {
   "cell_type": "code",
   "execution_count": 1,
   "metadata": {},
   "outputs": [],
   "source": [
    "import pandas as pd"
   ]
  },
  {
   "cell_type": "code",
   "execution_count": 5,
   "metadata": {},
   "outputs": [
    {
     "name": "stdout",
     "output_type": "stream",
     "text": [
      "  Timestamp    Asset   Price  Volume  Sentiment_Score  Economic_Indicator1  \\\n",
      "0   18:27.4  Asset_1  992.55     335             0.75               399.92   \n",
      "1   18:27.4  Asset_2  362.57     256             0.40               825.12   \n",
      "2   18:27.4  Asset_3  868.29     296             0.89               610.86   \n",
      "3   18:27.4  Asset_4  262.93     404             0.40               337.55   \n",
      "4   18:27.4  Asset_5  796.55     235             0.79               117.45   \n",
      "\n",
      "   Economic_Indicator2  Risk_Factor1  Risk_Factor2 Order          Strategy  \\\n",
      "0              1067.00          0.05          0.34  sell  Position Trading   \n",
      "1               728.60          0.23          0.94   buy          Scalping   \n",
      "2               968.72          0.07          0.81   buy     Swing Trading   \n",
      "3              1440.47          0.09          0.24   buy          Scalping   \n",
      "4              1483.75          0.38          0.79   buy       Day Trading   \n",
      "\n",
      "   Portfolio_Weights  Return  Volatility  Sharpe_Ratio  \n",
      "0               0.11  0.0356      0.2653          0.52  \n",
      "1               0.54  0.0417      0.2978          0.31  \n",
      "2               0.19  0.0243      0.1851          0.25  \n",
      "3               0.44 -0.0282      0.4344          0.51  \n",
      "4               0.28  0.0219      0.1090          0.22  \n"
     ]
    }
   ],
   "source": [
    "df = pd.read_csv('Dataset.csv')\n",
    "print(df.head())"
   ]
  },
  {
   "cell_type": "code",
   "execution_count": 6,
   "metadata": {},
   "outputs": [
    {
     "name": "stdout",
     "output_type": "stream",
     "text": [
      "Mean of the column: 0.49943980000000004\n"
     ]
    }
   ],
   "source": [
    "column_mean = df['Sentiment_Score'].mean()\n",
    "print(\"Mean of the column:\", column_mean)"
   ]
  },
  {
   "cell_type": "code",
   "execution_count": 7,
   "metadata": {},
   "outputs": [],
   "source": [
    "original_df = pd.read_csv(\"dataset.csv\")\n",
    "copied_df = original_df.copy()\n"
   ]
  },
  {
   "cell_type": "code",
   "execution_count": 8,
   "metadata": {},
   "outputs": [
    {
     "name": "stdout",
     "output_type": "stream",
     "text": [
      "  Timestamp    Asset   Price  Volume  Sentiment_Score  Economic_Indicator1  \\\n",
      "0   18:27.4  Asset_1  992.55     335                1               399.92   \n",
      "1   18:27.4  Asset_2  362.57     256                0               825.12   \n",
      "2   18:27.4  Asset_3  868.29     296                1               610.86   \n",
      "3   18:27.4  Asset_4  262.93     404                0               337.55   \n",
      "4   18:27.4  Asset_5  796.55     235                1               117.45   \n",
      "\n",
      "   Economic_Indicator2  Risk_Factor1  Risk_Factor2 Order          Strategy  \\\n",
      "0              1067.00          0.05          0.34  sell  Position Trading   \n",
      "1               728.60          0.23          0.94   buy          Scalping   \n",
      "2               968.72          0.07          0.81   buy     Swing Trading   \n",
      "3              1440.47          0.09          0.24   buy          Scalping   \n",
      "4              1483.75          0.38          0.79   buy       Day Trading   \n",
      "\n",
      "   Portfolio_Weights  Return  Volatility  Sharpe_Ratio  \n",
      "0               0.11  0.0356      0.2653          0.52  \n",
      "1               0.54  0.0417      0.2978          0.31  \n",
      "2               0.19  0.0243      0.1851          0.25  \n",
      "3               0.44 -0.0282      0.4344          0.51  \n",
      "4               0.28  0.0219      0.1090          0.22  \n"
     ]
    }
   ],
   "source": [
    "threshold = 0.49\n",
    "copied_df['Sentiment_Score'] = df['Sentiment_Score'].apply(lambda x: 0 if x <= threshold else 1)\n",
    "copied_df.to_csv(\"modified_dataset.csv\", index=False)\n",
    "print(copied_df.head()) \n",
    "# 0 -> negative sentiment\n",
    "# 1 -> positive sentiment"
   ]
  },
  {
   "cell_type": "code",
   "execution_count": 7,
   "metadata": {},
   "outputs": [
    {
     "name": "stdout",
     "output_type": "stream",
     "text": [
      "  Timestamp    Asset   Price  Volume  Sentiment_Score  Economic_Indicator1  \\\n",
      "0   18:27.4  Asset_1  992.55     335                1               399.92   \n",
      "1   18:27.4  Asset_2  362.57     256                0               825.12   \n",
      "2   18:27.4  Asset_3  868.29     296                1               610.86   \n",
      "3   18:27.4  Asset_4  262.93     404                0               337.55   \n",
      "4   18:27.4  Asset_5  796.55     235                1               117.45   \n",
      "\n",
      "   Economic_Indicator2  Risk_Factor1  Risk_Factor2 Order          Strategy  \\\n",
      "0              1067.00          0.05          0.34  sell  Position Trading   \n",
      "1               728.60          0.23          0.94   buy          Scalping   \n",
      "2               968.72          0.07          0.81   buy     Swing Trading   \n",
      "3              1440.47          0.09          0.24   buy          Scalping   \n",
      "4              1483.75          0.38          0.79   buy       Day Trading   \n",
      "\n",
      "   Portfolio_Weights  Return  Volatility  Sharpe_Ratio  object_number  \n",
      "0               0.11  0.0356      0.2653          0.52            NaN  \n",
      "1               0.54  0.0417      0.2978          0.31            1.0  \n",
      "2               0.19  0.0243      0.1851          0.25            3.0  \n",
      "3               0.44 -0.0282      0.4344          0.51            1.0  \n",
      "4               0.28  0.0219      0.1090          0.22            2.0  \n"
     ]
    }
   ],
   "source": [
    "object_to_number = {'Position Trading ': 0, 'Scalping': 1, 'Day Trading': 2, 'Swing Trading':3}\n",
    "copied_df['object_number'] = df['Strategy'].map(object_to_number)\n",
    "copied_df.to_csv(\"modified_dataset.csv\", index=False)\n",
    "print(copied_df.head())"
   ]
  },
  {
   "cell_type": "code",
   "execution_count": 8,
   "metadata": {},
   "outputs": [
    {
     "ename": "SyntaxError",
     "evalue": "invalid syntax (1777432365.py, line 1)",
     "output_type": "error",
     "traceback": [
      "\u001b[1;36m  Cell \u001b[1;32mIn[8], line 1\u001b[1;36m\u001b[0m\n\u001b[1;33m    copied_df del['Timestamp']\u001b[0m\n\u001b[1;37m              ^\u001b[0m\n\u001b[1;31mSyntaxError\u001b[0m\u001b[1;31m:\u001b[0m invalid syntax\n"
     ]
    }
   ],
   "source": [
    "copied_df del['Timestamp']\n",
    "print(copied_df.head())\n"
   ]
  },
  {
   "cell_type": "code",
   "execution_count": 9,
   "metadata": {},
   "outputs": [
    {
     "name": "stdout",
     "output_type": "stream",
     "text": [
      "     Asset   Price  Volume  Sentiment_Score  Economic_Indicator1  \\\n",
      "0  Asset_1  992.55     335                1               399.92   \n",
      "1  Asset_2  362.57     256                0               825.12   \n",
      "2  Asset_3  868.29     296                1               610.86   \n",
      "3  Asset_4  262.93     404                0               337.55   \n",
      "4  Asset_5  796.55     235                1               117.45   \n",
      "\n",
      "   Economic_Indicator2  Risk_Factor1  Risk_Factor2 Order          Strategy  \\\n",
      "0              1067.00          0.05          0.34  sell  Position Trading   \n",
      "1               728.60          0.23          0.94   buy          Scalping   \n",
      "2               968.72          0.07          0.81   buy     Swing Trading   \n",
      "3              1440.47          0.09          0.24   buy          Scalping   \n",
      "4              1483.75          0.38          0.79   buy       Day Trading   \n",
      "\n",
      "   Portfolio_Weights  Return  Volatility  Sharpe_Ratio  \n",
      "0               0.11  0.0356      0.2653          0.52  \n",
      "1               0.54  0.0417      0.2978          0.31  \n",
      "2               0.19  0.0243      0.1851          0.25  \n",
      "3               0.44 -0.0282      0.4344          0.51  \n",
      "4               0.28  0.0219      0.1090          0.22  \n"
     ]
    }
   ],
   "source": [
    "del copied_df['Timestamp']\n",
    "print(copied_df.head())"
   ]
  },
  {
   "cell_type": "code",
   "execution_count": null,
   "metadata": {},
   "outputs": [],
   "source": []
  },
  {
   "cell_type": "code",
   "execution_count": 26,
   "metadata": {},
   "outputs": [
    {
     "ename": "KeyError",
     "evalue": "'object_number'",
     "output_type": "error",
     "traceback": [
      "\u001b[1;31m---------------------------------------------------------------------------\u001b[0m",
      "\u001b[1;31mKeyError\u001b[0m                                  Traceback (most recent call last)",
      "File \u001b[1;32mc:\\Users\\HP\\AppData\\Local\\Programs\\Python\\Python312\\Lib\\site-packages\\pandas\\core\\indexes\\base.py:3805\u001b[0m, in \u001b[0;36mIndex.get_loc\u001b[1;34m(self, key)\u001b[0m\n\u001b[0;32m   3804\u001b[0m \u001b[38;5;28;01mtry\u001b[39;00m:\n\u001b[1;32m-> 3805\u001b[0m     \u001b[38;5;28;01mreturn\u001b[39;00m \u001b[38;5;28;43mself\u001b[39;49m\u001b[38;5;241;43m.\u001b[39;49m\u001b[43m_engine\u001b[49m\u001b[38;5;241;43m.\u001b[39;49m\u001b[43mget_loc\u001b[49m\u001b[43m(\u001b[49m\u001b[43mcasted_key\u001b[49m\u001b[43m)\u001b[49m\n\u001b[0;32m   3806\u001b[0m \u001b[38;5;28;01mexcept\u001b[39;00m \u001b[38;5;167;01mKeyError\u001b[39;00m \u001b[38;5;28;01mas\u001b[39;00m err:\n",
      "File \u001b[1;32mindex.pyx:167\u001b[0m, in \u001b[0;36mpandas._libs.index.IndexEngine.get_loc\u001b[1;34m()\u001b[0m\n",
      "File \u001b[1;32mindex.pyx:196\u001b[0m, in \u001b[0;36mpandas._libs.index.IndexEngine.get_loc\u001b[1;34m()\u001b[0m\n",
      "File \u001b[1;32mpandas\\\\_libs\\\\hashtable_class_helper.pxi:7081\u001b[0m, in \u001b[0;36mpandas._libs.hashtable.PyObjectHashTable.get_item\u001b[1;34m()\u001b[0m\n",
      "File \u001b[1;32mpandas\\\\_libs\\\\hashtable_class_helper.pxi:7089\u001b[0m, in \u001b[0;36mpandas._libs.hashtable.PyObjectHashTable.get_item\u001b[1;34m()\u001b[0m\n",
      "\u001b[1;31mKeyError\u001b[0m: 'object_number'",
      "\nThe above exception was the direct cause of the following exception:\n",
      "\u001b[1;31mKeyError\u001b[0m                                  Traceback (most recent call last)",
      "Cell \u001b[1;32mIn[26], line 1\u001b[0m\n\u001b[1;32m----> 1\u001b[0m \u001b[38;5;28;01mdel\u001b[39;00m \u001b[43mcopied_df\u001b[49m\u001b[43m[\u001b[49m\u001b[38;5;124;43m'\u001b[39;49m\u001b[38;5;124;43mobject_number\u001b[39;49m\u001b[38;5;124;43m'\u001b[39;49m\u001b[43m]\u001b[49m\n\u001b[0;32m      2\u001b[0m \u001b[38;5;28mprint\u001b[39m(copied_df\u001b[38;5;241m.\u001b[39mhead())\n",
      "File \u001b[1;32mc:\\Users\\HP\\AppData\\Local\\Programs\\Python\\Python312\\Lib\\site-packages\\pandas\\core\\generic.py:4506\u001b[0m, in \u001b[0;36mNDFrame.__delitem__\u001b[1;34m(self, key)\u001b[0m\n\u001b[0;32m   4501\u001b[0m             deleted \u001b[38;5;241m=\u001b[39m \u001b[38;5;28;01mTrue\u001b[39;00m\n\u001b[0;32m   4502\u001b[0m \u001b[38;5;28;01mif\u001b[39;00m \u001b[38;5;129;01mnot\u001b[39;00m deleted:\n\u001b[0;32m   4503\u001b[0m     \u001b[38;5;66;03m# If the above loop ran and didn't delete anything because\u001b[39;00m\n\u001b[0;32m   4504\u001b[0m     \u001b[38;5;66;03m# there was no match, this call should raise the appropriate\u001b[39;00m\n\u001b[0;32m   4505\u001b[0m     \u001b[38;5;66;03m# exception:\u001b[39;00m\n\u001b[1;32m-> 4506\u001b[0m     loc \u001b[38;5;241m=\u001b[39m \u001b[38;5;28;43mself\u001b[39;49m\u001b[38;5;241;43m.\u001b[39;49m\u001b[43maxes\u001b[49m\u001b[43m[\u001b[49m\u001b[38;5;241;43m-\u001b[39;49m\u001b[38;5;241;43m1\u001b[39;49m\u001b[43m]\u001b[49m\u001b[38;5;241;43m.\u001b[39;49m\u001b[43mget_loc\u001b[49m\u001b[43m(\u001b[49m\u001b[43mkey\u001b[49m\u001b[43m)\u001b[49m\n\u001b[0;32m   4507\u001b[0m     \u001b[38;5;28mself\u001b[39m\u001b[38;5;241m.\u001b[39m_mgr \u001b[38;5;241m=\u001b[39m \u001b[38;5;28mself\u001b[39m\u001b[38;5;241m.\u001b[39m_mgr\u001b[38;5;241m.\u001b[39midelete(loc)\n\u001b[0;32m   4509\u001b[0m \u001b[38;5;66;03m# delete from the caches\u001b[39;00m\n",
      "File \u001b[1;32mc:\\Users\\HP\\AppData\\Local\\Programs\\Python\\Python312\\Lib\\site-packages\\pandas\\core\\indexes\\base.py:3812\u001b[0m, in \u001b[0;36mIndex.get_loc\u001b[1;34m(self, key)\u001b[0m\n\u001b[0;32m   3807\u001b[0m     \u001b[38;5;28;01mif\u001b[39;00m \u001b[38;5;28misinstance\u001b[39m(casted_key, \u001b[38;5;28mslice\u001b[39m) \u001b[38;5;129;01mor\u001b[39;00m (\n\u001b[0;32m   3808\u001b[0m         \u001b[38;5;28misinstance\u001b[39m(casted_key, abc\u001b[38;5;241m.\u001b[39mIterable)\n\u001b[0;32m   3809\u001b[0m         \u001b[38;5;129;01mand\u001b[39;00m \u001b[38;5;28many\u001b[39m(\u001b[38;5;28misinstance\u001b[39m(x, \u001b[38;5;28mslice\u001b[39m) \u001b[38;5;28;01mfor\u001b[39;00m x \u001b[38;5;129;01min\u001b[39;00m casted_key)\n\u001b[0;32m   3810\u001b[0m     ):\n\u001b[0;32m   3811\u001b[0m         \u001b[38;5;28;01mraise\u001b[39;00m InvalidIndexError(key)\n\u001b[1;32m-> 3812\u001b[0m     \u001b[38;5;28;01mraise\u001b[39;00m \u001b[38;5;167;01mKeyError\u001b[39;00m(key) \u001b[38;5;28;01mfrom\u001b[39;00m \u001b[38;5;21;01merr\u001b[39;00m\n\u001b[0;32m   3813\u001b[0m \u001b[38;5;28;01mexcept\u001b[39;00m \u001b[38;5;167;01mTypeError\u001b[39;00m:\n\u001b[0;32m   3814\u001b[0m     \u001b[38;5;66;03m# If we have a listlike key, _check_indexing_error will raise\u001b[39;00m\n\u001b[0;32m   3815\u001b[0m     \u001b[38;5;66;03m#  InvalidIndexError. Otherwise we fall through and re-raise\u001b[39;00m\n\u001b[0;32m   3816\u001b[0m     \u001b[38;5;66;03m#  the TypeError.\u001b[39;00m\n\u001b[0;32m   3817\u001b[0m     \u001b[38;5;28mself\u001b[39m\u001b[38;5;241m.\u001b[39m_check_indexing_error(key)\n",
      "\u001b[1;31mKeyError\u001b[0m: 'object_number'"
     ]
    }
   ],
   "source": [
    "del copied_df['object_number']\n",
    "print(copied_df.head())\n",
    "\n"
   ]
  },
  {
   "cell_type": "code",
   "execution_count": 23,
   "metadata": {},
   "outputs": [
    {
     "name": "stdout",
     "output_type": "stream",
     "text": [
      "     Asset   Price  Volume  Sentiment_Score  Economic_Indicator1  \\\n",
      "0  Asset_1  992.55     335                1               399.92   \n",
      "1  Asset_2  362.57     256                0               825.12   \n",
      "2  Asset_3  868.29     296                1               610.86   \n",
      "3  Asset_4  262.93     404                0               337.55   \n",
      "4  Asset_5  796.55     235                1               117.45   \n",
      "\n",
      "   Economic_Indicator2  Risk_Factor1  Risk_Factor2 Order  Strategy  \\\n",
      "0              1067.00          0.05          0.34  sell       NaN   \n",
      "1               728.60          0.23          0.94   buy       NaN   \n",
      "2               968.72          0.07          0.81   buy       NaN   \n",
      "3              1440.47          0.09          0.24   buy       NaN   \n",
      "4              1483.75          0.38          0.79   buy       NaN   \n",
      "\n",
      "   Portfolio_Weights  Return  Volatility  Sharpe_Ratio  \n",
      "0               0.11  0.0356      0.2653          0.52  \n",
      "1               0.54  0.0417      0.2978          0.31  \n",
      "2               0.19  0.0243      0.1851          0.25  \n",
      "3               0.44 -0.0282      0.4344          0.51  \n",
      "4               0.28  0.0219      0.1090          0.22  \n"
     ]
    }
   ],
   "source": [
    "strategy_mapping = {\n",
    "    'day trading': 1,\n",
    "    'position trading': 2,\n",
    "    'scalping': 3,\n",
    "    'swing trading': 4\n",
    "}\n",
    "\n",
    "copied_df['Strategy'] = copied_df['Strategy'].map(Strategy_mapping)\n",
    "copied_df.to_csv(\"modified_dataset.csv\", index=True)\n",
    "print(copied_df.head())\n",
    "\n",
    "\n",
    "\n"
   ]
  },
  {
   "cell_type": "code",
   "execution_count": 16,
   "metadata": {},
   "outputs": [
    {
     "name": "stdout",
     "output_type": "stream",
     "text": [
      "[nan]\n",
      "     Asset   Price  Volume  Sentiment_Score  Economic_Indicator1  \\\n",
      "0  Asset_1  992.55     335                1               399.92   \n",
      "1  Asset_2  362.57     256                0               825.12   \n",
      "2  Asset_3  868.29     296                1               610.86   \n",
      "3  Asset_4  262.93     404                0               337.55   \n",
      "4  Asset_5  796.55     235                1               117.45   \n",
      "\n",
      "   Economic_Indicator2  Risk_Factor1  Risk_Factor2 Order  Strategy  \\\n",
      "0              1067.00          0.05          0.34  sell       NaN   \n",
      "1               728.60          0.23          0.94   buy       NaN   \n",
      "2               968.72          0.07          0.81   buy       NaN   \n",
      "3              1440.47          0.09          0.24   buy       NaN   \n",
      "4              1483.75          0.38          0.79   buy       NaN   \n",
      "\n",
      "   Portfolio_Weights  Return  Volatility  Sharpe_Ratio  \n",
      "0               0.11  0.0356      0.2653          0.52  \n",
      "1               0.54  0.0417      0.2978          0.31  \n",
      "2               0.19  0.0243      0.1851          0.25  \n",
      "3               0.44 -0.0282      0.4344          0.51  \n",
      "4               0.28  0.0219      0.1090          0.22  \n"
     ]
    }
   ],
   "source": [
    "print(copied_df['Strategy'].unique())\n",
    "\n",
    "\n",
    "Strategy_mapping = {\n",
    "    'day trading': 1,\n",
    "    'position trading': 2,\n",
    "    'scalping': 3,\n",
    "    'swing trading': 4\n",
    "}\n",
    "\n",
    "\n",
    "copied_df['Strategy'] = df['Strategy'].map(Strategy_mapping)\n",
    "\n",
    "\n",
    "print(copied_df.head())"
   ]
  },
  {
   "cell_type": "code",
   "execution_count": 19,
   "metadata": {},
   "outputs": [
    {
     "name": "stdout",
     "output_type": "stream",
     "text": [
      "  Timestamp    Asset   Price  Volume  Sentiment_Score  Economic_Indicator1  \\\n",
      "0   18:27.4  Asset_1  992.55     335             0.75               399.92   \n",
      "1   18:27.4  Asset_2  362.57     256             0.40               825.12   \n",
      "2   18:27.4  Asset_3  868.29     296             0.89               610.86   \n",
      "3   18:27.4  Asset_4  262.93     404             0.40               337.55   \n",
      "4   18:27.4  Asset_5  796.55     235             0.79               117.45   \n",
      "\n",
      "   Economic_Indicator2  Risk_Factor1  Risk_Factor2 Order          Strategy  \\\n",
      "0              1067.00          0.05          0.34  sell  Position Trading   \n",
      "1               728.60          0.23          0.94   buy          Scalping   \n",
      "2               968.72          0.07          0.81   buy     Swing Trading   \n",
      "3              1440.47          0.09          0.24   buy          Scalping   \n",
      "4              1483.75          0.38          0.79   buy       Day Trading   \n",
      "\n",
      "   Portfolio_Weights  Return  Volatility  Sharpe_Ratio  \n",
      "0               0.11  0.0356      0.2653          0.52  \n",
      "1               0.54  0.0417      0.2978          0.31  \n",
      "2               0.19  0.0243      0.1851          0.25  \n",
      "3               0.44 -0.0282      0.4344          0.51  \n",
      "4               0.28  0.0219      0.1090          0.22  \n"
     ]
    }
   ],
   "source": [
    "print(df.head())"
   ]
  },
  {
   "cell_type": "code",
   "execution_count": 21,
   "metadata": {},
   "outputs": [
    {
     "name": "stdout",
     "output_type": "stream",
     "text": [
      "     Asset   Price  Volume  Sentiment_Score  Economic_Indicator1  \\\n",
      "0  Asset_1  992.55     335                1               399.92   \n",
      "1  Asset_2  362.57     256                0               825.12   \n",
      "2  Asset_3  868.29     296                1               610.86   \n",
      "3  Asset_4  262.93     404                0               337.55   \n",
      "4  Asset_5  796.55     235                1               117.45   \n",
      "\n",
      "   Economic_Indicator2  Risk_Factor1  Risk_Factor2 Order  Strategy  \\\n",
      "0              1067.00          0.05          0.34  sell       NaN   \n",
      "1               728.60          0.23          0.94   buy       NaN   \n",
      "2               968.72          0.07          0.81   buy       NaN   \n",
      "3              1440.47          0.09          0.24   buy       NaN   \n",
      "4              1483.75          0.38          0.79   buy       NaN   \n",
      "\n",
      "   Portfolio_Weights  Return  Volatility  Sharpe_Ratio  \n",
      "0               0.11  0.0356      0.2653          0.52  \n",
      "1               0.54  0.0417      0.2978          0.31  \n",
      "2               0.19  0.0243      0.1851          0.25  \n",
      "3               0.44 -0.0282      0.4344          0.51  \n",
      "4               0.28  0.0219      0.1090          0.22  \n"
     ]
    }
   ],
   "source": [
    "\n",
    "\n",
    "\n",
    "\n",
    "\n",
    "\n",
    "Strategy_mapping = {\n",
    "    \"day trading\": 1,\n",
    "    \"position trading\": 2,\n",
    "    \"scalping\": 3,\n",
    "    \"swing trading\": 4\n",
    "}\n",
    "\n",
    "\n",
    "copied_df['Strategy'] = copied_df['Strategy'].replace(Strategy_mapping)\n",
    "\n",
    "copied_df.to_csv(\"modified_dataset.csv\", index=False)\n",
    "print(copied_df.head())\n"
   ]
  },
  {
   "cell_type": "code",
   "execution_count": 22,
   "metadata": {},
   "outputs": [
    {
     "name": "stdout",
     "output_type": "stream",
     "text": [
      "     Asset   Price  Volume  Sentiment_Score  Economic_Indicator1  \\\n",
      "0  Asset_1  992.55     335                1               399.92   \n",
      "1  Asset_2  362.57     256                0               825.12   \n",
      "2  Asset_3  868.29     296                1               610.86   \n",
      "3  Asset_4  262.93     404                0               337.55   \n",
      "4  Asset_5  796.55     235                1               117.45   \n",
      "\n",
      "   Economic_Indicator2  Risk_Factor1  Risk_Factor2 Order  Strategy  \\\n",
      "0              1067.00          0.05          0.34  sell       NaN   \n",
      "1               728.60          0.23          0.94   buy       NaN   \n",
      "2               968.72          0.07          0.81   buy       NaN   \n",
      "3              1440.47          0.09          0.24   buy       NaN   \n",
      "4              1483.75          0.38          0.79   buy       NaN   \n",
      "\n",
      "   Portfolio_Weights  Return  Volatility  Sharpe_Ratio  \n",
      "0               0.11  0.0356      0.2653          0.52  \n",
      "1               0.54  0.0417      0.2978          0.31  \n",
      "2               0.19  0.0243      0.1851          0.25  \n",
      "3               0.44 -0.0282      0.4344          0.51  \n",
      "4               0.28  0.0219      0.1090          0.22  \n"
     ]
    }
   ],
   "source": [
    "\n",
    "\n",
    "\n",
    "reverse_Strategy_mapping = {\n",
    "    1: 'day trading',\n",
    "    2: 'position trading',\n",
    "    3: 'scalping',\n",
    "    4: 'swing trading'\n",
    "}\n",
    "\n",
    "\n",
    "copied_df['Strategy'] = copied_df['Strategy'].replace(reverse_Strategy_mapping)\n",
    "\n",
    "copied_df.to_csv(\"modified_dataset.csv\", index=False)\n",
    "print(copied_df.head())\n"
   ]
  },
  {
   "cell_type": "code",
   "execution_count": 10,
   "metadata": {},
   "outputs": [],
   "source": [
    "original_df = pd.read_csv(\"dataset.csv\")\n",
    "copied_df = original_df.copy()\n"
   ]
  },
  {
   "cell_type": "code",
   "execution_count": 11,
   "metadata": {},
   "outputs": [
    {
     "name": "stdout",
     "output_type": "stream",
     "text": [
      "  Timestamp    Asset   Price  Volume  Sentiment_Score  Economic_Indicator1  \\\n",
      "0   18:27.4  Asset_1  992.55     335                1               399.92   \n",
      "1   18:27.4  Asset_2  362.57     256                0               825.12   \n",
      "2   18:27.4  Asset_3  868.29     296                1               610.86   \n",
      "3   18:27.4  Asset_4  262.93     404                0               337.55   \n",
      "4   18:27.4  Asset_5  796.55     235                1               117.45   \n",
      "\n",
      "   Economic_Indicator2  Risk_Factor1  Risk_Factor2 Order          Strategy  \\\n",
      "0              1067.00          0.05          0.34  sell  Position Trading   \n",
      "1               728.60          0.23          0.94   buy          Scalping   \n",
      "2               968.72          0.07          0.81   buy     Swing Trading   \n",
      "3              1440.47          0.09          0.24   buy          Scalping   \n",
      "4              1483.75          0.38          0.79   buy       Day Trading   \n",
      "\n",
      "   Portfolio_Weights  Return  Volatility  Sharpe_Ratio  \n",
      "0               0.11  0.0356      0.2653          0.52  \n",
      "1               0.54  0.0417      0.2978          0.31  \n",
      "2               0.19  0.0243      0.1851          0.25  \n",
      "3               0.44 -0.0282      0.4344          0.51  \n",
      "4               0.28  0.0219      0.1090          0.22  \n"
     ]
    }
   ],
   "source": [
    "threshold = 0.49\n",
    "copied_df['Sentiment_Score'] = df['Sentiment_Score'].apply(lambda x: 0 if x <= threshold else 1)\n",
    "copied_df.to_csv(\"modified_dataset.csv\", index=False)\n",
    "print(copied_df.head()) \n",
    "# 0 -> negative sentiment\n",
    "# 1 -> positive sentiment"
   ]
  },
  {
   "cell_type": "code",
   "execution_count": 12,
   "metadata": {},
   "outputs": [
    {
     "name": "stdout",
     "output_type": "stream",
     "text": [
      "     Asset   Price  Volume  Sentiment_Score  Economic_Indicator1  \\\n",
      "0  Asset_1  992.55     335                1               399.92   \n",
      "1  Asset_2  362.57     256                0               825.12   \n",
      "2  Asset_3  868.29     296                1               610.86   \n",
      "3  Asset_4  262.93     404                0               337.55   \n",
      "4  Asset_5  796.55     235                1               117.45   \n",
      "\n",
      "   Economic_Indicator2  Risk_Factor1  Risk_Factor2 Order          Strategy  \\\n",
      "0              1067.00          0.05          0.34  sell  Position Trading   \n",
      "1               728.60          0.23          0.94   buy          Scalping   \n",
      "2               968.72          0.07          0.81   buy     Swing Trading   \n",
      "3              1440.47          0.09          0.24   buy          Scalping   \n",
      "4              1483.75          0.38          0.79   buy       Day Trading   \n",
      "\n",
      "   Portfolio_Weights  Return  Volatility  Sharpe_Ratio  \n",
      "0               0.11  0.0356      0.2653          0.52  \n",
      "1               0.54  0.0417      0.2978          0.31  \n",
      "2               0.19  0.0243      0.1851          0.25  \n",
      "3               0.44 -0.0282      0.4344          0.51  \n",
      "4               0.28  0.0219      0.1090          0.22  \n"
     ]
    }
   ],
   "source": [
    "del copied_df['Timestamp']\n",
    "print(copied_df.head())"
   ]
  },
  {
   "cell_type": "code",
   "execution_count": 13,
   "metadata": {},
   "outputs": [
    {
     "name": "stdout",
     "output_type": "stream",
     "text": [
      "     Asset   Price  Volume  Sentiment_Score  Economic_Indicator1  \\\n",
      "0  Asset_1  992.55     335                1               399.92   \n",
      "1  Asset_2  362.57     256                0               825.12   \n",
      "2  Asset_3  868.29     296                1               610.86   \n",
      "3  Asset_4  262.93     404                0               337.55   \n",
      "4  Asset_5  796.55     235                1               117.45   \n",
      "\n",
      "   Economic_Indicator2  Risk_Factor1  Risk_Factor2 Order  Strategy  \\\n",
      "0              1067.00          0.05          0.34  sell         2   \n",
      "1               728.60          0.23          0.94   buy         3   \n",
      "2               968.72          0.07          0.81   buy         4   \n",
      "3              1440.47          0.09          0.24   buy         3   \n",
      "4              1483.75          0.38          0.79   buy         1   \n",
      "\n",
      "   Portfolio_Weights  Return  Volatility  Sharpe_Ratio  \n",
      "0               0.11  0.0356      0.2653          0.52  \n",
      "1               0.54  0.0417      0.2978          0.31  \n",
      "2               0.19  0.0243      0.1851          0.25  \n",
      "3               0.44 -0.0282      0.4344          0.51  \n",
      "4               0.28  0.0219      0.1090          0.22  \n"
     ]
    },
    {
     "name": "stderr",
     "output_type": "stream",
     "text": [
      "C:\\Users\\HP\\AppData\\Local\\Temp\\ipykernel_5768\\1559588949.py:12: FutureWarning: Downcasting behavior in `replace` is deprecated and will be removed in a future version. To retain the old behavior, explicitly call `result.infer_objects(copy=False)`. To opt-in to the future behavior, set `pd.set_option('future.no_silent_downcasting', True)`\n",
      "  copied_df['Strategy'] = copied_df['Strategy'].replace(strategy_mapping)\n"
     ]
    }
   ],
   "source": [
    "\n",
    "strategy_mapping = {\n",
    "    'Day Trading': 1,\n",
    "    'Position Trading': 2,\n",
    "    'Scalping': 3,\n",
    "    'Swing Trading': 4\n",
    "}\n",
    "\n",
    "\n",
    "\n",
    "\n",
    "\n",
    "copied_df['Strategy'] = copied_df['Strategy'].replace(strategy_mapping)\n",
    "\n",
    "\n",
    "print(copied_df.head())\n"
   ]
  },
  {
   "cell_type": "code",
   "execution_count": 14,
   "metadata": {},
   "outputs": [
    {
     "name": "stdout",
     "output_type": "stream",
     "text": [
      "     Asset   Price  Volume  Sentiment_Score  Economic_Indicator1  \\\n",
      "0  Asset_1  992.55     335                1               399.92   \n",
      "1  Asset_2  362.57     256                0               825.12   \n",
      "2  Asset_3  868.29     296                1               610.86   \n",
      "3  Asset_4  262.93     404                0               337.55   \n",
      "4  Asset_5  796.55     235                1               117.45   \n",
      "\n",
      "   Economic_Indicator2  Risk_Factor1  Risk_Factor2 Order  Strategy  \\\n",
      "0              1067.00          0.05          0.34  sell         2   \n",
      "1               728.60          0.23          0.94   buy         3   \n",
      "2               968.72          0.07          0.81   buy         4   \n",
      "3              1440.47          0.09          0.24   buy         3   \n",
      "4              1483.75          0.38          0.79   buy         1   \n",
      "\n",
      "   Portfolio_Weights  Return  Volatility  Sharpe_Ratio  \n",
      "0               0.11  0.0356      0.2653          0.52  \n",
      "1               0.54  0.0417      0.2978          0.31  \n",
      "2               0.19  0.0243      0.1851          0.25  \n",
      "3               0.44 -0.0282      0.4344          0.51  \n",
      "4               0.28  0.0219      0.1090          0.22  \n"
     ]
    }
   ],
   "source": [
    "print(copied_df.head())\n"
   ]
  },
  {
   "cell_type": "code",
   "execution_count": 15,
   "metadata": {},
   "outputs": [
    {
     "name": "stdout",
     "output_type": "stream",
     "text": [
      "Total number of entries in the dataset: 100000\n"
     ]
    }
   ],
   "source": [
    "total_entries = len(copied_df)\n",
    "print(\"Total number of entries in the dataset:\", total_entries)"
   ]
  },
  {
   "cell_type": "code",
   "execution_count": 18,
   "metadata": {},
   "outputs": [
    {
     "name": "stdout",
     "output_type": "stream",
     "text": [
      "        Price      Volume  Sentiment_Score  Economic_Indicator1  \\\n",
      "0  547.850285  645.137227     4.134490e-01           388.360589   \n",
      "1  487.446512  518.089861    -8.126833e-14           609.612948   \n",
      "2  495.767846  523.841622     1.000000e+00           592.174512   \n",
      "\n",
      "   Economic_Indicator2  Risk_Factor1  Risk_Factor2  \n",
      "0          1004.410313      0.694305      0.262010  \n",
      "1          1000.280108      0.431769      0.589326  \n",
      "2          1000.569662      0.446876      0.564983  \n",
      "  Timestamp    Asset   Price  Volume  Sentiment_Score  Economic_Indicator1  \\\n",
      "0   18:27.4  Asset_1  992.55     335                1               399.92   \n",
      "1   18:27.4  Asset_2  362.57     256                0               825.12   \n",
      "2   18:27.4  Asset_3  868.29     296                1               610.86   \n",
      "3   18:27.4  Asset_4  262.93     404                0               337.55   \n",
      "4   18:27.4  Asset_5  796.55     235                1               117.45   \n",
      "\n",
      "   Economic_Indicator2  Risk_Factor1  Risk_Factor2 Order          Strategy  \\\n",
      "0              1067.00          0.05          0.34  sell  Position Trading   \n",
      "1               728.60          0.23          0.94   buy          Scalping   \n",
      "2               968.72          0.07          0.81   buy     Swing Trading   \n",
      "3              1440.47          0.09          0.24   buy          Scalping   \n",
      "4              1483.75          0.38          0.79   buy       Day Trading   \n",
      "\n",
      "   Portfolio_Weights  Return  Volatility  Sharpe_Ratio  Cluster  \n",
      "0               0.11  0.0356      0.2653          0.52        2  \n",
      "1               0.54  0.0417      0.2978          0.31        1  \n",
      "2               0.19  0.0243      0.1851          0.25        2  \n",
      "3               0.44 -0.0282      0.4344          0.51        1  \n",
      "4               0.28  0.0219      0.1090          0.22        2  \n"
     ]
    }
   ],
   "source": [
    "\n",
    "from sklearn.cluster import KMeans\n",
    "from sklearn.preprocessing import StandardScaler\n",
    "\n",
    "# Load the dataset\n",
    "copied_df = pd.read_csv('modified_dataset.csv')\n",
    "\n",
    "# Select features for clustering (excluding non-numeric columns like Order, Strategy, etc.)\n",
    "features = copied_df[['Price', 'Volume', 'Sentiment_Score', 'Economic_Indicator1', 'Economic_Indicator2', 'Risk_Factor1', 'Risk_Factor2']]\n",
    "\n",
    "# Normalize the features\n",
    "scaler = StandardScaler()\n",
    "scaled_features = scaler.fit_transform(features)\n",
    "\n",
    "# Choose the number of clusters (K)\n",
    "k = 3\n",
    "\n",
    "# Apply K-means clustering\n",
    "kmeans = KMeans(n_clusters=k, random_state=42)\n",
    "copied_df['Cluster'] = kmeans.fit_predict(scaled_features)\n",
    "\n",
    "# Analyze the resulting clusters\n",
    "cluster_centers = scaler.inverse_transform(kmeans.cluster_centers_)\n",
    "cluster_data = pd.DataFrame(cluster_centers, columns=features.columns)\n",
    "print(cluster_data)\n",
    "\n",
    "# Assign cluster labels to the original dataset\n",
    "copied_df['Cluster'] = kmeans.labels_\n",
    "\n",
    "# Print the dataset with cluster labels\n",
    "print(copied_df.head())\n"
   ]
  },
  {
   "cell_type": "code",
   "execution_count": 23,
   "metadata": {},
   "outputs": [
    {
     "ename": "ValueError",
     "evalue": "Unrecognized marker style 0        1067.00\n1         728.60\n2         968.72\n3        1440.47\n4        1483.75\n          ...   \n99995    1050.88\n99996     851.53\n99997     655.34\n99998     977.53\n99999    1303.00\nName: Economic_Indicator2, Length: 100000, dtype: float64",
     "output_type": "error",
     "traceback": [
      "\u001b[1;31m---------------------------------------------------------------------------\u001b[0m",
      "\u001b[1;31mValueError\u001b[0m                                Traceback (most recent call last)",
      "File \u001b[1;32mc:\\Program Files\\Python311\\Lib\\site-packages\\matplotlib\\markers.py:335\u001b[0m, in \u001b[0;36mMarkerStyle._set_marker\u001b[1;34m(self, marker)\u001b[0m\n\u001b[0;32m    334\u001b[0m \u001b[38;5;28;01mtry\u001b[39;00m:\n\u001b[1;32m--> 335\u001b[0m     \u001b[43mPath\u001b[49m\u001b[43m(\u001b[49m\u001b[43mmarker\u001b[49m\u001b[43m)\u001b[49m\n\u001b[0;32m    336\u001b[0m     \u001b[38;5;28mself\u001b[39m\u001b[38;5;241m.\u001b[39m_marker_function \u001b[38;5;241m=\u001b[39m \u001b[38;5;28mself\u001b[39m\u001b[38;5;241m.\u001b[39m_set_vertices\n",
      "File \u001b[1;32mc:\\Program Files\\Python311\\Lib\\site-packages\\matplotlib\\path.py:130\u001b[0m, in \u001b[0;36mPath.__init__\u001b[1;34m(self, vertices, codes, _interpolation_steps, closed, readonly)\u001b[0m\n\u001b[0;32m    129\u001b[0m vertices \u001b[38;5;241m=\u001b[39m _to_unmasked_float_array(vertices)\n\u001b[1;32m--> 130\u001b[0m \u001b[43m_api\u001b[49m\u001b[38;5;241;43m.\u001b[39;49m\u001b[43mcheck_shape\u001b[49m\u001b[43m(\u001b[49m\u001b[43m(\u001b[49m\u001b[38;5;28;43;01mNone\u001b[39;49;00m\u001b[43m,\u001b[49m\u001b[43m \u001b[49m\u001b[38;5;241;43m2\u001b[39;49m\u001b[43m)\u001b[49m\u001b[43m,\u001b[49m\u001b[43m \u001b[49m\u001b[43mvertices\u001b[49m\u001b[38;5;241;43m=\u001b[39;49m\u001b[43mvertices\u001b[49m\u001b[43m)\u001b[49m\n\u001b[0;32m    132\u001b[0m \u001b[38;5;28;01mif\u001b[39;00m codes \u001b[38;5;129;01mis\u001b[39;00m \u001b[38;5;129;01mnot\u001b[39;00m \u001b[38;5;28;01mNone\u001b[39;00m:\n",
      "File \u001b[1;32mc:\\Program Files\\Python311\\Lib\\site-packages\\matplotlib\\_api\\__init__.py:161\u001b[0m, in \u001b[0;36mcheck_shape\u001b[1;34m(shape, **kwargs)\u001b[0m\n\u001b[0;32m    159\u001b[0m     text_shape \u001b[38;5;241m+\u001b[39m\u001b[38;5;241m=\u001b[39m \u001b[38;5;124m\"\u001b[39m\u001b[38;5;124m,\u001b[39m\u001b[38;5;124m\"\u001b[39m\n\u001b[1;32m--> 161\u001b[0m \u001b[38;5;28;01mraise\u001b[39;00m \u001b[38;5;167;01mValueError\u001b[39;00m(\n\u001b[0;32m    162\u001b[0m     \u001b[38;5;124mf\u001b[39m\u001b[38;5;124m\"\u001b[39m\u001b[38;5;132;01m{\u001b[39;00mk\u001b[38;5;132;01m!r}\u001b[39;00m\u001b[38;5;124m must be \u001b[39m\u001b[38;5;132;01m{\u001b[39;00m\u001b[38;5;28mlen\u001b[39m(shape)\u001b[38;5;132;01m}\u001b[39;00m\u001b[38;5;124mD with shape (\u001b[39m\u001b[38;5;132;01m{\u001b[39;00mtext_shape\u001b[38;5;132;01m}\u001b[39;00m\u001b[38;5;124m), \u001b[39m\u001b[38;5;124m\"\u001b[39m\n\u001b[0;32m    163\u001b[0m     \u001b[38;5;124mf\u001b[39m\u001b[38;5;124m\"\u001b[39m\u001b[38;5;124mbut your input has shape \u001b[39m\u001b[38;5;132;01m{\u001b[39;00mv\u001b[38;5;241m.\u001b[39mshape\u001b[38;5;132;01m}\u001b[39;00m\u001b[38;5;124m\"\u001b[39m\n\u001b[0;32m    164\u001b[0m )\n",
      "\u001b[1;31mValueError\u001b[0m: 'vertices' must be 2D with shape (N, 2), but your input has shape (100000,)",
      "\nThe above exception was the direct cause of the following exception:\n",
      "\u001b[1;31mValueError\u001b[0m                                Traceback (most recent call last)",
      "Cell \u001b[1;32mIn[23], line 6\u001b[0m\n\u001b[0;32m      3\u001b[0m \u001b[38;5;28;01mfrom\u001b[39;00m \u001b[38;5;21;01mmatplotlib\u001b[39;00m \u001b[38;5;28;01mimport\u001b[39;00m pyplot \u001b[38;5;28;01mas\u001b[39;00m plt \n\u001b[0;32m      4\u001b[0m get_ipython()\u001b[38;5;241m.\u001b[39mrun_line_magic(\u001b[38;5;124m'\u001b[39m\u001b[38;5;124mmatplotlib\u001b[39m\u001b[38;5;124m'\u001b[39m, \u001b[38;5;124m'\u001b[39m\u001b[38;5;124minline\u001b[39m\u001b[38;5;124m'\u001b[39m)\n\u001b[1;32m----> 6\u001b[0m \u001b[43mplt\u001b[49m\u001b[38;5;241;43m.\u001b[39;49m\u001b[43mscatter\u001b[49m\u001b[43m(\u001b[49m\u001b[43mcopied_df\u001b[49m\u001b[43m[\u001b[49m\u001b[38;5;124;43m'\u001b[39;49m\u001b[38;5;124;43mPrice\u001b[39;49m\u001b[38;5;124;43m'\u001b[39;49m\u001b[43m]\u001b[49m\u001b[43m,\u001b[49m\u001b[43mcopied_df\u001b[49m\u001b[43m[\u001b[49m\u001b[38;5;124;43m'\u001b[39;49m\u001b[38;5;124;43mVolume\u001b[39;49m\u001b[38;5;124;43m'\u001b[39;49m\u001b[43m]\u001b[49m\u001b[43m,\u001b[49m\u001b[43m \u001b[49m\u001b[43mcopied_df\u001b[49m\u001b[43m[\u001b[49m\u001b[38;5;124;43m'\u001b[39;49m\u001b[38;5;124;43mSentiment_Score\u001b[39;49m\u001b[38;5;124;43m'\u001b[39;49m\u001b[43m]\u001b[49m\u001b[43m,\u001b[49m\u001b[43m \u001b[49m\u001b[43mcopied_df\u001b[49m\u001b[43m[\u001b[49m\u001b[38;5;124;43m'\u001b[39;49m\u001b[38;5;124;43mEconomic_Indicator1\u001b[39;49m\u001b[38;5;124;43m'\u001b[39;49m\u001b[43m]\u001b[49m\u001b[43m,\u001b[49m\u001b[43m \u001b[49m\u001b[43mcopied_df\u001b[49m\u001b[43m[\u001b[49m\u001b[38;5;124;43m'\u001b[39;49m\u001b[38;5;124;43mEconomic_Indicator2\u001b[39;49m\u001b[38;5;124;43m'\u001b[39;49m\u001b[43m]\u001b[49m\u001b[43m,\u001b[49m\u001b[43m \u001b[49m\u001b[43mcopied_df\u001b[49m\u001b[43m[\u001b[49m\u001b[38;5;124;43m'\u001b[39;49m\u001b[38;5;124;43mRisk_Factor1\u001b[39;49m\u001b[38;5;124;43m'\u001b[39;49m\u001b[43m]\u001b[49m\u001b[43m,\u001b[49m\u001b[43m \u001b[49m\u001b[43mcopied_df\u001b[49m\u001b[43m[\u001b[49m\u001b[38;5;124;43m'\u001b[39;49m\u001b[38;5;124;43mRisk_Factor2\u001b[39;49m\u001b[38;5;124;43m'\u001b[39;49m\u001b[43m]\u001b[49m\u001b[43m)\u001b[49m\n",
      "File \u001b[1;32mc:\\Program Files\\Python311\\Lib\\site-packages\\matplotlib\\pyplot.py:3699\u001b[0m, in \u001b[0;36mscatter\u001b[1;34m(x, y, s, c, marker, cmap, norm, vmin, vmax, alpha, linewidths, edgecolors, plotnonfinite, data, **kwargs)\u001b[0m\n\u001b[0;32m   3680\u001b[0m \u001b[38;5;129m@_copy_docstring_and_deprecators\u001b[39m(Axes\u001b[38;5;241m.\u001b[39mscatter)\n\u001b[0;32m   3681\u001b[0m \u001b[38;5;28;01mdef\u001b[39;00m \u001b[38;5;21mscatter\u001b[39m(\n\u001b[0;32m   3682\u001b[0m     x: \u001b[38;5;28mfloat\u001b[39m \u001b[38;5;241m|\u001b[39m ArrayLike,\n\u001b[1;32m   (...)\u001b[0m\n\u001b[0;32m   3697\u001b[0m     \u001b[38;5;241m*\u001b[39m\u001b[38;5;241m*\u001b[39mkwargs,\n\u001b[0;32m   3698\u001b[0m ) \u001b[38;5;241m-\u001b[39m\u001b[38;5;241m>\u001b[39m PathCollection:\n\u001b[1;32m-> 3699\u001b[0m     __ret \u001b[38;5;241m=\u001b[39m \u001b[43mgca\u001b[49m\u001b[43m(\u001b[49m\u001b[43m)\u001b[49m\u001b[38;5;241;43m.\u001b[39;49m\u001b[43mscatter\u001b[49m\u001b[43m(\u001b[49m\n\u001b[0;32m   3700\u001b[0m \u001b[43m        \u001b[49m\u001b[43mx\u001b[49m\u001b[43m,\u001b[49m\n\u001b[0;32m   3701\u001b[0m \u001b[43m        \u001b[49m\u001b[43my\u001b[49m\u001b[43m,\u001b[49m\n\u001b[0;32m   3702\u001b[0m \u001b[43m        \u001b[49m\u001b[43ms\u001b[49m\u001b[38;5;241;43m=\u001b[39;49m\u001b[43ms\u001b[49m\u001b[43m,\u001b[49m\n\u001b[0;32m   3703\u001b[0m \u001b[43m        \u001b[49m\u001b[43mc\u001b[49m\u001b[38;5;241;43m=\u001b[39;49m\u001b[43mc\u001b[49m\u001b[43m,\u001b[49m\n\u001b[0;32m   3704\u001b[0m \u001b[43m        \u001b[49m\u001b[43mmarker\u001b[49m\u001b[38;5;241;43m=\u001b[39;49m\u001b[43mmarker\u001b[49m\u001b[43m,\u001b[49m\n\u001b[0;32m   3705\u001b[0m \u001b[43m        \u001b[49m\u001b[43mcmap\u001b[49m\u001b[38;5;241;43m=\u001b[39;49m\u001b[43mcmap\u001b[49m\u001b[43m,\u001b[49m\n\u001b[0;32m   3706\u001b[0m \u001b[43m        \u001b[49m\u001b[43mnorm\u001b[49m\u001b[38;5;241;43m=\u001b[39;49m\u001b[43mnorm\u001b[49m\u001b[43m,\u001b[49m\n\u001b[0;32m   3707\u001b[0m \u001b[43m        \u001b[49m\u001b[43mvmin\u001b[49m\u001b[38;5;241;43m=\u001b[39;49m\u001b[43mvmin\u001b[49m\u001b[43m,\u001b[49m\n\u001b[0;32m   3708\u001b[0m \u001b[43m        \u001b[49m\u001b[43mvmax\u001b[49m\u001b[38;5;241;43m=\u001b[39;49m\u001b[43mvmax\u001b[49m\u001b[43m,\u001b[49m\n\u001b[0;32m   3709\u001b[0m \u001b[43m        \u001b[49m\u001b[43malpha\u001b[49m\u001b[38;5;241;43m=\u001b[39;49m\u001b[43malpha\u001b[49m\u001b[43m,\u001b[49m\n\u001b[0;32m   3710\u001b[0m \u001b[43m        \u001b[49m\u001b[43mlinewidths\u001b[49m\u001b[38;5;241;43m=\u001b[39;49m\u001b[43mlinewidths\u001b[49m\u001b[43m,\u001b[49m\n\u001b[0;32m   3711\u001b[0m \u001b[43m        \u001b[49m\u001b[43medgecolors\u001b[49m\u001b[38;5;241;43m=\u001b[39;49m\u001b[43medgecolors\u001b[49m\u001b[43m,\u001b[49m\n\u001b[0;32m   3712\u001b[0m \u001b[43m        \u001b[49m\u001b[43mplotnonfinite\u001b[49m\u001b[38;5;241;43m=\u001b[39;49m\u001b[43mplotnonfinite\u001b[49m\u001b[43m,\u001b[49m\n\u001b[0;32m   3713\u001b[0m \u001b[43m        \u001b[49m\u001b[38;5;241;43m*\u001b[39;49m\u001b[38;5;241;43m*\u001b[39;49m\u001b[43m(\u001b[49m\u001b[43m{\u001b[49m\u001b[38;5;124;43m\"\u001b[39;49m\u001b[38;5;124;43mdata\u001b[39;49m\u001b[38;5;124;43m\"\u001b[39;49m\u001b[43m:\u001b[49m\u001b[43m \u001b[49m\u001b[43mdata\u001b[49m\u001b[43m}\u001b[49m\u001b[43m \u001b[49m\u001b[38;5;28;43;01mif\u001b[39;49;00m\u001b[43m \u001b[49m\u001b[43mdata\u001b[49m\u001b[43m \u001b[49m\u001b[38;5;129;43;01mis\u001b[39;49;00m\u001b[43m \u001b[49m\u001b[38;5;129;43;01mnot\u001b[39;49;00m\u001b[43m \u001b[49m\u001b[38;5;28;43;01mNone\u001b[39;49;00m\u001b[43m \u001b[49m\u001b[38;5;28;43;01melse\u001b[39;49;00m\u001b[43m \u001b[49m\u001b[43m{\u001b[49m\u001b[43m}\u001b[49m\u001b[43m)\u001b[49m\u001b[43m,\u001b[49m\n\u001b[0;32m   3714\u001b[0m \u001b[43m        \u001b[49m\u001b[38;5;241;43m*\u001b[39;49m\u001b[38;5;241;43m*\u001b[39;49m\u001b[43mkwargs\u001b[49m\u001b[43m,\u001b[49m\n\u001b[0;32m   3715\u001b[0m \u001b[43m    \u001b[49m\u001b[43m)\u001b[49m\n\u001b[0;32m   3716\u001b[0m     sci(__ret)\n\u001b[0;32m   3717\u001b[0m     \u001b[38;5;28;01mreturn\u001b[39;00m __ret\n",
      "File \u001b[1;32mc:\\Program Files\\Python311\\Lib\\site-packages\\matplotlib\\__init__.py:1478\u001b[0m, in \u001b[0;36m_preprocess_data.<locals>.inner\u001b[1;34m(ax, data, *args, **kwargs)\u001b[0m\n\u001b[0;32m   1475\u001b[0m \u001b[38;5;129m@functools\u001b[39m\u001b[38;5;241m.\u001b[39mwraps(func)\n\u001b[0;32m   1476\u001b[0m \u001b[38;5;28;01mdef\u001b[39;00m \u001b[38;5;21minner\u001b[39m(ax, \u001b[38;5;241m*\u001b[39margs, data\u001b[38;5;241m=\u001b[39m\u001b[38;5;28;01mNone\u001b[39;00m, \u001b[38;5;241m*\u001b[39m\u001b[38;5;241m*\u001b[39mkwargs):\n\u001b[0;32m   1477\u001b[0m     \u001b[38;5;28;01mif\u001b[39;00m data \u001b[38;5;129;01mis\u001b[39;00m \u001b[38;5;28;01mNone\u001b[39;00m:\n\u001b[1;32m-> 1478\u001b[0m         \u001b[38;5;28;01mreturn\u001b[39;00m \u001b[43mfunc\u001b[49m\u001b[43m(\u001b[49m\u001b[43max\u001b[49m\u001b[43m,\u001b[49m\u001b[43m \u001b[49m\u001b[38;5;241;43m*\u001b[39;49m\u001b[38;5;28;43mmap\u001b[39;49m\u001b[43m(\u001b[49m\u001b[43msanitize_sequence\u001b[49m\u001b[43m,\u001b[49m\u001b[43m \u001b[49m\u001b[43margs\u001b[49m\u001b[43m)\u001b[49m\u001b[43m,\u001b[49m\u001b[43m \u001b[49m\u001b[38;5;241;43m*\u001b[39;49m\u001b[38;5;241;43m*\u001b[39;49m\u001b[43mkwargs\u001b[49m\u001b[43m)\u001b[49m\n\u001b[0;32m   1480\u001b[0m     bound \u001b[38;5;241m=\u001b[39m new_sig\u001b[38;5;241m.\u001b[39mbind(ax, \u001b[38;5;241m*\u001b[39margs, \u001b[38;5;241m*\u001b[39m\u001b[38;5;241m*\u001b[39mkwargs)\n\u001b[0;32m   1481\u001b[0m     auto_label \u001b[38;5;241m=\u001b[39m (bound\u001b[38;5;241m.\u001b[39marguments\u001b[38;5;241m.\u001b[39mget(label_namer)\n\u001b[0;32m   1482\u001b[0m                   \u001b[38;5;129;01mor\u001b[39;00m bound\u001b[38;5;241m.\u001b[39mkwargs\u001b[38;5;241m.\u001b[39mget(label_namer))\n",
      "File \u001b[1;32mc:\\Program Files\\Python311\\Lib\\site-packages\\matplotlib\\axes\\_axes.py:4700\u001b[0m, in \u001b[0;36mAxes.scatter\u001b[1;34m(self, x, y, s, c, marker, cmap, norm, vmin, vmax, alpha, linewidths, edgecolors, plotnonfinite, **kwargs)\u001b[0m\n\u001b[0;32m   4698\u001b[0m     marker_obj \u001b[38;5;241m=\u001b[39m marker\n\u001b[0;32m   4699\u001b[0m \u001b[38;5;28;01melse\u001b[39;00m:\n\u001b[1;32m-> 4700\u001b[0m     marker_obj \u001b[38;5;241m=\u001b[39m \u001b[43mmmarkers\u001b[49m\u001b[38;5;241;43m.\u001b[39;49m\u001b[43mMarkerStyle\u001b[49m\u001b[43m(\u001b[49m\u001b[43mmarker\u001b[49m\u001b[43m)\u001b[49m\n\u001b[0;32m   4702\u001b[0m path \u001b[38;5;241m=\u001b[39m marker_obj\u001b[38;5;241m.\u001b[39mget_path()\u001b[38;5;241m.\u001b[39mtransformed(\n\u001b[0;32m   4703\u001b[0m     marker_obj\u001b[38;5;241m.\u001b[39mget_transform())\n\u001b[0;32m   4704\u001b[0m \u001b[38;5;28;01mif\u001b[39;00m \u001b[38;5;129;01mnot\u001b[39;00m marker_obj\u001b[38;5;241m.\u001b[39mis_filled():\n",
      "File \u001b[1;32mc:\\Program Files\\Python311\\Lib\\site-packages\\matplotlib\\markers.py:255\u001b[0m, in \u001b[0;36mMarkerStyle.__init__\u001b[1;34m(self, marker, fillstyle, transform, capstyle, joinstyle)\u001b[0m\n\u001b[0;32m    253\u001b[0m \u001b[38;5;28mself\u001b[39m\u001b[38;5;241m.\u001b[39m_user_joinstyle \u001b[38;5;241m=\u001b[39m JoinStyle(joinstyle) \u001b[38;5;28;01mif\u001b[39;00m joinstyle \u001b[38;5;129;01mis\u001b[39;00m \u001b[38;5;129;01mnot\u001b[39;00m \u001b[38;5;28;01mNone\u001b[39;00m \u001b[38;5;28;01melse\u001b[39;00m \u001b[38;5;28;01mNone\u001b[39;00m\n\u001b[0;32m    254\u001b[0m \u001b[38;5;28mself\u001b[39m\u001b[38;5;241m.\u001b[39m_set_fillstyle(fillstyle)\n\u001b[1;32m--> 255\u001b[0m \u001b[38;5;28;43mself\u001b[39;49m\u001b[38;5;241;43m.\u001b[39;49m\u001b[43m_set_marker\u001b[49m\u001b[43m(\u001b[49m\u001b[43mmarker\u001b[49m\u001b[43m)\u001b[49m\n",
      "File \u001b[1;32mc:\\Program Files\\Python311\\Lib\\site-packages\\matplotlib\\markers.py:338\u001b[0m, in \u001b[0;36mMarkerStyle._set_marker\u001b[1;34m(self, marker)\u001b[0m\n\u001b[0;32m    336\u001b[0m         \u001b[38;5;28mself\u001b[39m\u001b[38;5;241m.\u001b[39m_marker_function \u001b[38;5;241m=\u001b[39m \u001b[38;5;28mself\u001b[39m\u001b[38;5;241m.\u001b[39m_set_vertices\n\u001b[0;32m    337\u001b[0m     \u001b[38;5;28;01mexcept\u001b[39;00m \u001b[38;5;167;01mValueError\u001b[39;00m \u001b[38;5;28;01mas\u001b[39;00m err:\n\u001b[1;32m--> 338\u001b[0m         \u001b[38;5;28;01mraise\u001b[39;00m \u001b[38;5;167;01mValueError\u001b[39;00m(\n\u001b[0;32m    339\u001b[0m             \u001b[38;5;124mf\u001b[39m\u001b[38;5;124m'\u001b[39m\u001b[38;5;124mUnrecognized marker style \u001b[39m\u001b[38;5;132;01m{\u001b[39;00mmarker\u001b[38;5;132;01m!r}\u001b[39;00m\u001b[38;5;124m'\u001b[39m) \u001b[38;5;28;01mfrom\u001b[39;00m \u001b[38;5;21;01merr\u001b[39;00m\n\u001b[0;32m    341\u001b[0m \u001b[38;5;28;01mif\u001b[39;00m \u001b[38;5;129;01mnot\u001b[39;00m \u001b[38;5;28misinstance\u001b[39m(marker, MarkerStyle):\n\u001b[0;32m    342\u001b[0m     \u001b[38;5;28mself\u001b[39m\u001b[38;5;241m.\u001b[39m_marker \u001b[38;5;241m=\u001b[39m marker\n",
      "\u001b[1;31mValueError\u001b[0m: Unrecognized marker style 0        1067.00\n1         728.60\n2         968.72\n3        1440.47\n4        1483.75\n          ...   \n99995    1050.88\n99996     851.53\n99997     655.34\n99998     977.53\n99999    1303.00\nName: Economic_Indicator2, Length: 100000, dtype: float64"
     ]
    },
    {
     "data": {
      "image/png": "[encoded data removed]",
      "text/plain": [
       "<Figure size 640x480 with 1 Axes>"
      ]
     },
     "metadata": {},
     "output_type": "display_data"
    }
   ],
   "source": [
    "from sklearn.cluster import KMeans\n",
    "from sklearn.preprocessing import MinMaxScaler\n",
    "from matplotlib import pyplot as plt \n",
    "%matplotlib inline\n",
    "\n",
    "plt.scatter(copied_df['Price'],copied_df['Volume'], copied_df['Sentiment_Score'], copied_df['Economic_Indicator1'], copied_df['Economic_Indicator2'], copied_df['Risk_Factor1'], copied_df['Risk_Factor2'])"
   ]
  }
 ],
 "metadata": {
  "kernelspec": {
   "display_name": "Python 3",
   "language": "python",
   "name": "python3"
  },
  "language_info": {
   "codemirror_mode": {
    "name": "ipython",
    "version": 3
   },
   "file_extension": ".py",
   "mimetype": "text/x-python",
   "name": "python",
   "nbconvert_exporter": "python",
   "pygments_lexer": "ipython3",
   "version": "3.11.9"
  }
 },
 "nbformat": 4,
 "nbformat_minor": 2
}
