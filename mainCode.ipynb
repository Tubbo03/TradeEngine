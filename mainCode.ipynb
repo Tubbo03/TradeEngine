{
 "cells": [
  {
   "cell_type": "code",
   "execution_count": 2,
   "metadata": {},
   "outputs": [],
   "source": [
    "import pandas as pd"
   ]
  },
  {
   "cell_type": "code",
   "execution_count": 3,
   "metadata": {},
   "outputs": [
    {
     "name": "stdout",
     "output_type": "stream",
     "text": [
      "  Timestamp    Asset   Price  Volume  Sentiment_Score  Economic_Indicator1  \\\n",
      "0   18:27.4  Asset_1  992.55     335             0.75               399.92   \n",
      "1   18:27.4  Asset_2  362.57     256             0.40               825.12   \n",
      "2   18:27.4  Asset_3  868.29     296             0.89               610.86   \n",
      "3   18:27.4  Asset_4  262.93     404             0.40               337.55   \n",
      "4   18:27.4  Asset_5  796.55     235             0.79               117.45   \n",
      "\n",
      "   Economic_Indicator2  Risk_Factor1  Risk_Factor2 Order          Strategy  \\\n",
      "0              1067.00          0.05          0.34  sell  Position Trading   \n",
      "1               728.60          0.23          0.94   buy          Scalping   \n",
      "2               968.72          0.07          0.81   buy     Swing Trading   \n",
      "3              1440.47          0.09          0.24   buy          Scalping   \n",
      "4              1483.75          0.38          0.79   buy       Day Trading   \n",
      "\n",
      "   Portfolio_Weights  Return  Volatility  Sharpe_Ratio  \n",
      "0               0.11  0.0356      0.2653          0.52  \n",
      "1               0.54  0.0417      0.2978          0.31  \n",
      "2               0.19  0.0243      0.1851          0.25  \n",
      "3               0.44 -0.0282      0.4344          0.51  \n",
      "4               0.28  0.0219      0.1090          0.22  \n"
     ]
    }
   ],
   "source": [
    "df = pd.read_csv('Dataset.csv')\n",
    "print(df.head())"
   ]
  },
  {
   "cell_type": "code",
   "execution_count": 4,
   "metadata": {},
   "outputs": [
    {
     "name": "stdout",
     "output_type": "stream",
     "text": [
      "Mean of the column: 0.49943980000000004\n"
     ]
    }
   ],
   "source": [
    "column_mean = df['Sentiment_Score'].mean()\n",
    "print(\"Mean of the column:\", column_mean)"
   ]
  },
  {
   "cell_type": "code",
   "execution_count": 5,
   "metadata": {},
   "outputs": [],
   "source": [
    "original_df = pd.read_csv(\"dataset.csv\")\n",
    "copied_df = original_df.copy()\n"
   ]
  },
  {
   "cell_type": "code",
   "execution_count": 6,
   "metadata": {},
   "outputs": [
    {
     "name": "stdout",
     "output_type": "stream",
     "text": [
      "  Timestamp    Asset   Price  Volume  Sentiment_Score  Economic_Indicator1  \\\n",
      "0   18:27.4  Asset_1  992.55     335                1               399.92   \n",
      "1   18:27.4  Asset_2  362.57     256                0               825.12   \n",
      "2   18:27.4  Asset_3  868.29     296                1               610.86   \n",
      "3   18:27.4  Asset_4  262.93     404                0               337.55   \n",
      "4   18:27.4  Asset_5  796.55     235                1               117.45   \n",
      "\n",
      "   Economic_Indicator2  Risk_Factor1  Risk_Factor2 Order          Strategy  \\\n",
      "0              1067.00          0.05          0.34  sell  Position Trading   \n",
      "1               728.60          0.23          0.94   buy          Scalping   \n",
      "2               968.72          0.07          0.81   buy     Swing Trading   \n",
      "3              1440.47          0.09          0.24   buy          Scalping   \n",
      "4              1483.75          0.38          0.79   buy       Day Trading   \n",
      "\n",
      "   Portfolio_Weights  Return  Volatility  Sharpe_Ratio  \n",
      "0               0.11  0.0356      0.2653          0.52  \n",
      "1               0.54  0.0417      0.2978          0.31  \n",
      "2               0.19  0.0243      0.1851          0.25  \n",
      "3               0.44 -0.0282      0.4344          0.51  \n",
      "4               0.28  0.0219      0.1090          0.22  \n"
     ]
    }
   ],
   "source": [
    "threshold = 0.49\n",
    "copied_df['Sentiment_Score'] = df['Sentiment_Score'].apply(lambda x: 0 if x <= threshold else 1)\n",
    "copied_df.to_csv(\"modified_dataset.csv\", index=False)\n",
    "print(copied_df.head()) \n",
    "# 0 -> negative sentiment\n",
    "# 1 -> positive sentiment"
   ]
  },
  {
   "cell_type": "code",
   "execution_count": 7,
   "metadata": {},
   "outputs": [
    {
     "name": "stdout",
     "output_type": "stream",
     "text": [
      "  Timestamp    Asset   Price  Volume  Sentiment_Score  Economic_Indicator1  \\\n",
      "0   18:27.4  Asset_1  992.55     335                1               399.92   \n",
      "1   18:27.4  Asset_2  362.57     256                0               825.12   \n",
      "2   18:27.4  Asset_3  868.29     296                1               610.86   \n",
      "3   18:27.4  Asset_4  262.93     404                0               337.55   \n",
      "4   18:27.4  Asset_5  796.55     235                1               117.45   \n",
      "\n",
      "   Economic_Indicator2  Risk_Factor1  Risk_Factor2 Order          Strategy  \\\n",
      "0              1067.00          0.05          0.34  sell  Position Trading   \n",
      "1               728.60          0.23          0.94   buy          Scalping   \n",
      "2               968.72          0.07          0.81   buy     Swing Trading   \n",
      "3              1440.47          0.09          0.24   buy          Scalping   \n",
      "4              1483.75          0.38          0.79   buy       Day Trading   \n",
      "\n",
      "   Portfolio_Weights  Return  Volatility  Sharpe_Ratio  object_number  \n",
      "0               0.11  0.0356      0.2653          0.52            NaN  \n",
      "1               0.54  0.0417      0.2978          0.31            1.0  \n",
      "2               0.19  0.0243      0.1851          0.25            3.0  \n",
      "3               0.44 -0.0282      0.4344          0.51            1.0  \n",
      "4               0.28  0.0219      0.1090          0.22            2.0  \n"
     ]
    }
   ],
   "source": [
    "object_to_number = {'Position Trading ': 0, 'Scalping': 1, 'Day Trading': 2, 'Swing Trading':3}\n",
    "copied_df['object_number'] = df['Strategy'].map(object_to_number)\n",
    "copied_df.to_csv(\"modified_dataset.csv\", index=False)\n",
    "print(copied_df.head())"
   ]
  },
  {
   "cell_type": "code",
   "execution_count": 8,
   "metadata": {},
   "outputs": [
    {
     "ename": "SyntaxError",
     "evalue": "invalid syntax (1777432365.py, line 1)",
     "output_type": "error",
     "traceback": [
      "\u001b[1;36m  Cell \u001b[1;32mIn[8], line 1\u001b[1;36m\u001b[0m\n\u001b[1;33m    copied_df del['Timestamp']\u001b[0m\n\u001b[1;37m              ^\u001b[0m\n\u001b[1;31mSyntaxError\u001b[0m\u001b[1;31m:\u001b[0m invalid syntax\n"
     ]
    }
   ],
   "source": [
    "copied_df del['Timestamp']\n",
    "print(copied_df.head())\n"
   ]
  },
  {
   "cell_type": "code",
   "execution_count": 9,
   "metadata": {},
   "outputs": [
    {
     "name": "stdout",
     "output_type": "stream",
     "text": [
      "     Asset   Price  Volume  Sentiment_Score  Economic_Indicator1  \\\n",
      "0  Asset_1  992.55     335                1               399.92   \n",
      "1  Asset_2  362.57     256                0               825.12   \n",
      "2  Asset_3  868.29     296                1               610.86   \n",
      "3  Asset_4  262.93     404                0               337.55   \n",
      "4  Asset_5  796.55     235                1               117.45   \n",
      "\n",
      "   Economic_Indicator2  Risk_Factor1  Risk_Factor2 Order          Strategy  \\\n",
      "0              1067.00          0.05          0.34  sell  Position Trading   \n",
      "1               728.60          0.23          0.94   buy          Scalping   \n",
      "2               968.72          0.07          0.81   buy     Swing Trading   \n",
      "3              1440.47          0.09          0.24   buy          Scalping   \n",
      "4              1483.75          0.38          0.79   buy       Day Trading   \n",
      "\n",
      "   Portfolio_Weights  Return  Volatility  Sharpe_Ratio  object_number  \n",
      "0               0.11  0.0356      0.2653          0.52            NaN  \n",
      "1               0.54  0.0417      0.2978          0.31            1.0  \n",
      "2               0.19  0.0243      0.1851          0.25            3.0  \n",
      "3               0.44 -0.0282      0.4344          0.51            1.0  \n",
      "4               0.28  0.0219      0.1090          0.22            2.0  \n"
     ]
    }
   ],
   "source": [
    "del copied_df['Timestamp']\n",
    "print(copied_df.head())"
   ]
  },
  {
   "cell_type": "code",
   "execution_count": null,
   "metadata": {},
   "outputs": [],
   "source": []
  },
  {
   "cell_type": "code",
   "execution_count": 26,
   "metadata": {},
   "outputs": [
    {
     "ename": "KeyError",
     "evalue": "'object_number'",
     "output_type": "error",
     "traceback": [
      "\u001b[1;31m---------------------------------------------------------------------------\u001b[0m",
      "\u001b[1;31mKeyError\u001b[0m                                  Traceback (most recent call last)",
      "File \u001b[1;32mc:\\Users\\HP\\AppData\\Local\\Programs\\Python\\Python312\\Lib\\site-packages\\pandas\\core\\indexes\\base.py:3805\u001b[0m, in \u001b[0;36mIndex.get_loc\u001b[1;34m(self, key)\u001b[0m\n\u001b[0;32m   3804\u001b[0m \u001b[38;5;28;01mtry\u001b[39;00m:\n\u001b[1;32m-> 3805\u001b[0m     \u001b[38;5;28;01mreturn\u001b[39;00m \u001b[38;5;28;43mself\u001b[39;49m\u001b[38;5;241;43m.\u001b[39;49m\u001b[43m_engine\u001b[49m\u001b[38;5;241;43m.\u001b[39;49m\u001b[43mget_loc\u001b[49m\u001b[43m(\u001b[49m\u001b[43mcasted_key\u001b[49m\u001b[43m)\u001b[49m\n\u001b[0;32m   3806\u001b[0m \u001b[38;5;28;01mexcept\u001b[39;00m \u001b[38;5;167;01mKeyError\u001b[39;00m \u001b[38;5;28;01mas\u001b[39;00m err:\n",
      "File \u001b[1;32mindex.pyx:167\u001b[0m, in \u001b[0;36mpandas._libs.index.IndexEngine.get_loc\u001b[1;34m()\u001b[0m\n",
      "File \u001b[1;32mindex.pyx:196\u001b[0m, in \u001b[0;36mpandas._libs.index.IndexEngine.get_loc\u001b[1;34m()\u001b[0m\n",
      "File \u001b[1;32mpandas\\\\_libs\\\\hashtable_class_helper.pxi:7081\u001b[0m, in \u001b[0;36mpandas._libs.hashtable.PyObjectHashTable.get_item\u001b[1;34m()\u001b[0m\n",
      "File \u001b[1;32mpandas\\\\_libs\\\\hashtable_class_helper.pxi:7089\u001b[0m, in \u001b[0;36mpandas._libs.hashtable.PyObjectHashTable.get_item\u001b[1;34m()\u001b[0m\n",
      "\u001b[1;31mKeyError\u001b[0m: 'object_number'",
      "\nThe above exception was the direct cause of the following exception:\n",
      "\u001b[1;31mKeyError\u001b[0m                                  Traceback (most recent call last)",
      "Cell \u001b[1;32mIn[26], line 1\u001b[0m\n\u001b[1;32m----> 1\u001b[0m \u001b[38;5;28;01mdel\u001b[39;00m \u001b[43mcopied_df\u001b[49m\u001b[43m[\u001b[49m\u001b[38;5;124;43m'\u001b[39;49m\u001b[38;5;124;43mobject_number\u001b[39;49m\u001b[38;5;124;43m'\u001b[39;49m\u001b[43m]\u001b[49m\n\u001b[0;32m      2\u001b[0m \u001b[38;5;28mprint\u001b[39m(copied_df\u001b[38;5;241m.\u001b[39mhead())\n",
      "File \u001b[1;32mc:\\Users\\HP\\AppData\\Local\\Programs\\Python\\Python312\\Lib\\site-packages\\pandas\\core\\generic.py:4506\u001b[0m, in \u001b[0;36mNDFrame.__delitem__\u001b[1;34m(self, key)\u001b[0m\n\u001b[0;32m   4501\u001b[0m             deleted \u001b[38;5;241m=\u001b[39m \u001b[38;5;28;01mTrue\u001b[39;00m\n\u001b[0;32m   4502\u001b[0m \u001b[38;5;28;01mif\u001b[39;00m \u001b[38;5;129;01mnot\u001b[39;00m deleted:\n\u001b[0;32m   4503\u001b[0m     \u001b[38;5;66;03m# If the above loop ran and didn't delete anything because\u001b[39;00m\n\u001b[0;32m   4504\u001b[0m     \u001b[38;5;66;03m# there was no match, this call should raise the appropriate\u001b[39;00m\n\u001b[0;32m   4505\u001b[0m     \u001b[38;5;66;03m# exception:\u001b[39;00m\n\u001b[1;32m-> 4506\u001b[0m     loc \u001b[38;5;241m=\u001b[39m \u001b[38;5;28;43mself\u001b[39;49m\u001b[38;5;241;43m.\u001b[39;49m\u001b[43maxes\u001b[49m\u001b[43m[\u001b[49m\u001b[38;5;241;43m-\u001b[39;49m\u001b[38;5;241;43m1\u001b[39;49m\u001b[43m]\u001b[49m\u001b[38;5;241;43m.\u001b[39;49m\u001b[43mget_loc\u001b[49m\u001b[43m(\u001b[49m\u001b[43mkey\u001b[49m\u001b[43m)\u001b[49m\n\u001b[0;32m   4507\u001b[0m     \u001b[38;5;28mself\u001b[39m\u001b[38;5;241m.\u001b[39m_mgr \u001b[38;5;241m=\u001b[39m \u001b[38;5;28mself\u001b[39m\u001b[38;5;241m.\u001b[39m_mgr\u001b[38;5;241m.\u001b[39midelete(loc)\n\u001b[0;32m   4509\u001b[0m \u001b[38;5;66;03m# delete from the caches\u001b[39;00m\n",
      "File \u001b[1;32mc:\\Users\\HP\\AppData\\Local\\Programs\\Python\\Python312\\Lib\\site-packages\\pandas\\core\\indexes\\base.py:3812\u001b[0m, in \u001b[0;36mIndex.get_loc\u001b[1;34m(self, key)\u001b[0m\n\u001b[0;32m   3807\u001b[0m     \u001b[38;5;28;01mif\u001b[39;00m \u001b[38;5;28misinstance\u001b[39m(casted_key, \u001b[38;5;28mslice\u001b[39m) \u001b[38;5;129;01mor\u001b[39;00m (\n\u001b[0;32m   3808\u001b[0m         \u001b[38;5;28misinstance\u001b[39m(casted_key, abc\u001b[38;5;241m.\u001b[39mIterable)\n\u001b[0;32m   3809\u001b[0m         \u001b[38;5;129;01mand\u001b[39;00m \u001b[38;5;28many\u001b[39m(\u001b[38;5;28misinstance\u001b[39m(x, \u001b[38;5;28mslice\u001b[39m) \u001b[38;5;28;01mfor\u001b[39;00m x \u001b[38;5;129;01min\u001b[39;00m casted_key)\n\u001b[0;32m   3810\u001b[0m     ):\n\u001b[0;32m   3811\u001b[0m         \u001b[38;5;28;01mraise\u001b[39;00m InvalidIndexError(key)\n\u001b[1;32m-> 3812\u001b[0m     \u001b[38;5;28;01mraise\u001b[39;00m \u001b[38;5;167;01mKeyError\u001b[39;00m(key) \u001b[38;5;28;01mfrom\u001b[39;00m \u001b[38;5;21;01merr\u001b[39;00m\n\u001b[0;32m   3813\u001b[0m \u001b[38;5;28;01mexcept\u001b[39;00m \u001b[38;5;167;01mTypeError\u001b[39;00m:\n\u001b[0;32m   3814\u001b[0m     \u001b[38;5;66;03m# If we have a listlike key, _check_indexing_error will raise\u001b[39;00m\n\u001b[0;32m   3815\u001b[0m     \u001b[38;5;66;03m#  InvalidIndexError. Otherwise we fall through and re-raise\u001b[39;00m\n\u001b[0;32m   3816\u001b[0m     \u001b[38;5;66;03m#  the TypeError.\u001b[39;00m\n\u001b[0;32m   3817\u001b[0m     \u001b[38;5;28mself\u001b[39m\u001b[38;5;241m.\u001b[39m_check_indexing_error(key)\n",
      "\u001b[1;31mKeyError\u001b[0m: 'object_number'"
     ]
    }
   ],
   "source": [
    "del copied_df['object_number']\n",
    "print(copied_df.head())\n",
    "\n"
   ]
  },
  {
   "cell_type": "code",
   "execution_count": 23,
   "metadata": {},
   "outputs": [
    {
     "name": "stdout",
     "output_type": "stream",
     "text": [
      "     Asset   Price  Volume  Sentiment_Score  Economic_Indicator1  \\\n",
      "0  Asset_1  992.55     335                1               399.92   \n",
      "1  Asset_2  362.57     256                0               825.12   \n",
      "2  Asset_3  868.29     296                1               610.86   \n",
      "3  Asset_4  262.93     404                0               337.55   \n",
      "4  Asset_5  796.55     235                1               117.45   \n",
      "\n",
      "   Economic_Indicator2  Risk_Factor1  Risk_Factor2 Order  Strategy  \\\n",
      "0              1067.00          0.05          0.34  sell       NaN   \n",
      "1               728.60          0.23          0.94   buy       NaN   \n",
      "2               968.72          0.07          0.81   buy       NaN   \n",
      "3              1440.47          0.09          0.24   buy       NaN   \n",
      "4              1483.75          0.38          0.79   buy       NaN   \n",
      "\n",
      "   Portfolio_Weights  Return  Volatility  Sharpe_Ratio  \n",
      "0               0.11  0.0356      0.2653          0.52  \n",
      "1               0.54  0.0417      0.2978          0.31  \n",
      "2               0.19  0.0243      0.1851          0.25  \n",
      "3               0.44 -0.0282      0.4344          0.51  \n",
      "4               0.28  0.0219      0.1090          0.22  \n"
     ]
    }
   ],
   "source": [
    "strategy_mapping = {\n",
    "    'day trading': 1,\n",
    "    'position trading': 2,\n",
    "    'scalping': 3,\n",
    "    'swing trading': 4\n",
    "}\n",
    "\n",
    "copied_df['Strategy'] = copied_df['Strategy'].map(Strategy_mapping)\n",
    "copied_df.to_csv(\"modified_dataset.csv\", index=True)\n",
    "print(copied_df.head())\n",
    "\n",
    "\n",
    "\n"
   ]
  },
  {
   "cell_type": "code",
   "execution_count": 16,
   "metadata": {},
   "outputs": [
    {
     "name": "stdout",
     "output_type": "stream",
     "text": [
      "[nan]\n",
      "     Asset   Price  Volume  Sentiment_Score  Economic_Indicator1  \\\n",
      "0  Asset_1  992.55     335                1               399.92   \n",
      "1  Asset_2  362.57     256                0               825.12   \n",
      "2  Asset_3  868.29     296                1               610.86   \n",
      "3  Asset_4  262.93     404                0               337.55   \n",
      "4  Asset_5  796.55     235                1               117.45   \n",
      "\n",
      "   Economic_Indicator2  Risk_Factor1  Risk_Factor2 Order  Strategy  \\\n",
      "0              1067.00          0.05          0.34  sell       NaN   \n",
      "1               728.60          0.23          0.94   buy       NaN   \n",
      "2               968.72          0.07          0.81   buy       NaN   \n",
      "3              1440.47          0.09          0.24   buy       NaN   \n",
      "4              1483.75          0.38          0.79   buy       NaN   \n",
      "\n",
      "   Portfolio_Weights  Return  Volatility  Sharpe_Ratio  \n",
      "0               0.11  0.0356      0.2653          0.52  \n",
      "1               0.54  0.0417      0.2978          0.31  \n",
      "2               0.19  0.0243      0.1851          0.25  \n",
      "3               0.44 -0.0282      0.4344          0.51  \n",
      "4               0.28  0.0219      0.1090          0.22  \n"
     ]
    }
   ],
   "source": [
    "print(copied_df['Strategy'].unique())\n",
    "\n",
    "\n",
    "Strategy_mapping = {\n",
    "    'day trading': 1,\n",
    "    'position trading': 2,\n",
    "    'scalping': 3,\n",
    "    'swing trading': 4\n",
    "}\n",
    "\n",
    "\n",
    "copied_df['Strategy'] = df['Strategy'].map(Strategy_mapping)\n",
    "\n",
    "\n",
    "print(copied_df.head())"
   ]
  },
  {
   "cell_type": "code",
   "execution_count": 19,
   "metadata": {},
   "outputs": [
    {
     "name": "stdout",
     "output_type": "stream",
     "text": [
      "  Timestamp    Asset   Price  Volume  Sentiment_Score  Economic_Indicator1  \\\n",
      "0   18:27.4  Asset_1  992.55     335             0.75               399.92   \n",
      "1   18:27.4  Asset_2  362.57     256             0.40               825.12   \n",
      "2   18:27.4  Asset_3  868.29     296             0.89               610.86   \n",
      "3   18:27.4  Asset_4  262.93     404             0.40               337.55   \n",
      "4   18:27.4  Asset_5  796.55     235             0.79               117.45   \n",
      "\n",
      "   Economic_Indicator2  Risk_Factor1  Risk_Factor2 Order          Strategy  \\\n",
      "0              1067.00          0.05          0.34  sell  Position Trading   \n",
      "1               728.60          0.23          0.94   buy          Scalping   \n",
      "2               968.72          0.07          0.81   buy     Swing Trading   \n",
      "3              1440.47          0.09          0.24   buy          Scalping   \n",
      "4              1483.75          0.38          0.79   buy       Day Trading   \n",
      "\n",
      "   Portfolio_Weights  Return  Volatility  Sharpe_Ratio  \n",
      "0               0.11  0.0356      0.2653          0.52  \n",
      "1               0.54  0.0417      0.2978          0.31  \n",
      "2               0.19  0.0243      0.1851          0.25  \n",
      "3               0.44 -0.0282      0.4344          0.51  \n",
      "4               0.28  0.0219      0.1090          0.22  \n"
     ]
    }
   ],
   "source": [
    "print(df.head())"
   ]
  },
  {
   "cell_type": "code",
   "execution_count": 21,
   "metadata": {},
   "outputs": [
    {
     "name": "stdout",
     "output_type": "stream",
     "text": [
      "     Asset   Price  Volume  Sentiment_Score  Economic_Indicator1  \\\n",
      "0  Asset_1  992.55     335                1               399.92   \n",
      "1  Asset_2  362.57     256                0               825.12   \n",
      "2  Asset_3  868.29     296                1               610.86   \n",
      "3  Asset_4  262.93     404                0               337.55   \n",
      "4  Asset_5  796.55     235                1               117.45   \n",
      "\n",
      "   Economic_Indicator2  Risk_Factor1  Risk_Factor2 Order  Strategy  \\\n",
      "0              1067.00          0.05          0.34  sell       NaN   \n",
      "1               728.60          0.23          0.94   buy       NaN   \n",
      "2               968.72          0.07          0.81   buy       NaN   \n",
      "3              1440.47          0.09          0.24   buy       NaN   \n",
      "4              1483.75          0.38          0.79   buy       NaN   \n",
      "\n",
      "   Portfolio_Weights  Return  Volatility  Sharpe_Ratio  \n",
      "0               0.11  0.0356      0.2653          0.52  \n",
      "1               0.54  0.0417      0.2978          0.31  \n",
      "2               0.19  0.0243      0.1851          0.25  \n",
      "3               0.44 -0.0282      0.4344          0.51  \n",
      "4               0.28  0.0219      0.1090          0.22  \n"
     ]
    }
   ],
   "source": [
    "\n",
    "\n",
    "\n",
    "\n",
    "\n",
    "\n",
    "Strategy_mapping = {\n",
    "    \"day trading\": 1,\n",
    "    \"position trading\": 2,\n",
    "    \"scalping\": 3,\n",
    "    \"swing trading\": 4\n",
    "}\n",
    "\n",
    "\n",
    "copied_df['Strategy'] = copied_df['Strategy'].replace(Strategy_mapping)\n",
    "\n",
    "copied_df.to_csv(\"modified_dataset.csv\", index=False)\n",
    "print(copied_df.head())\n"
   ]
  },
  {
   "cell_type": "code",
   "execution_count": 22,
   "metadata": {},
   "outputs": [
    {
     "name": "stdout",
     "output_type": "stream",
     "text": [
      "     Asset   Price  Volume  Sentiment_Score  Economic_Indicator1  \\\n",
      "0  Asset_1  992.55     335                1               399.92   \n",
      "1  Asset_2  362.57     256                0               825.12   \n",
      "2  Asset_3  868.29     296                1               610.86   \n",
      "3  Asset_4  262.93     404                0               337.55   \n",
      "4  Asset_5  796.55     235                1               117.45   \n",
      "\n",
      "   Economic_Indicator2  Risk_Factor1  Risk_Factor2 Order  Strategy  \\\n",
      "0              1067.00          0.05          0.34  sell       NaN   \n",
      "1               728.60          0.23          0.94   buy       NaN   \n",
      "2               968.72          0.07          0.81   buy       NaN   \n",
      "3              1440.47          0.09          0.24   buy       NaN   \n",
      "4              1483.75          0.38          0.79   buy       NaN   \n",
      "\n",
      "   Portfolio_Weights  Return  Volatility  Sharpe_Ratio  \n",
      "0               0.11  0.0356      0.2653          0.52  \n",
      "1               0.54  0.0417      0.2978          0.31  \n",
      "2               0.19  0.0243      0.1851          0.25  \n",
      "3               0.44 -0.0282      0.4344          0.51  \n",
      "4               0.28  0.0219      0.1090          0.22  \n"
     ]
    }
   ],
   "source": [
    "\n",
    "\n",
    "\n",
    "reverse_Strategy_mapping = {\n",
    "    1: 'day trading',\n",
    "    2: 'position trading',\n",
    "    3: 'scalping',\n",
    "    4: 'swing trading'\n",
    "}\n",
    "\n",
    "\n",
    "copied_df['Strategy'] = copied_df['Strategy'].replace(reverse_Strategy_mapping)\n",
    "\n",
    "copied_df.to_csv(\"modified_dataset.csv\", index=False)\n",
    "print(copied_df.head())\n"
   ]
  },
  {
   "cell_type": "code",
   "execution_count": 24,
   "metadata": {},
   "outputs": [],
   "source": [
    "original_df = pd.read_csv(\"dataset.csv\")\n",
    "copied_df = original_df.copy()\n"
   ]
  },
  {
   "cell_type": "code",
   "execution_count": 25,
   "metadata": {},
   "outputs": [
    {
     "name": "stdout",
     "output_type": "stream",
     "text": [
      "  Timestamp    Asset   Price  Volume  Sentiment_Score  Economic_Indicator1  \\\n",
      "0   18:27.4  Asset_1  992.55     335                1               399.92   \n",
      "1   18:27.4  Asset_2  362.57     256                0               825.12   \n",
      "2   18:27.4  Asset_3  868.29     296                1               610.86   \n",
      "3   18:27.4  Asset_4  262.93     404                0               337.55   \n",
      "4   18:27.4  Asset_5  796.55     235                1               117.45   \n",
      "\n",
      "   Economic_Indicator2  Risk_Factor1  Risk_Factor2 Order          Strategy  \\\n",
      "0              1067.00          0.05          0.34  sell  Position Trading   \n",
      "1               728.60          0.23          0.94   buy          Scalping   \n",
      "2               968.72          0.07          0.81   buy     Swing Trading   \n",
      "3              1440.47          0.09          0.24   buy          Scalping   \n",
      "4              1483.75          0.38          0.79   buy       Day Trading   \n",
      "\n",
      "   Portfolio_Weights  Return  Volatility  Sharpe_Ratio  \n",
      "0               0.11  0.0356      0.2653          0.52  \n",
      "1               0.54  0.0417      0.2978          0.31  \n",
      "2               0.19  0.0243      0.1851          0.25  \n",
      "3               0.44 -0.0282      0.4344          0.51  \n",
      "4               0.28  0.0219      0.1090          0.22  \n"
     ]
    }
   ],
   "source": [
    "threshold = 0.49\n",
    "copied_df['Sentiment_Score'] = df['Sentiment_Score'].apply(lambda x: 0 if x <= threshold else 1)\n",
    "copied_df.to_csv(\"modified_dataset.csv\", index=False)\n",
    "print(copied_df.head()) \n",
    "# 0 -> negative sentiment\n",
    "# 1 -> positive sentiment"
   ]
  },
  {
   "cell_type": "code",
   "execution_count": 27,
   "metadata": {},
   "outputs": [
    {
     "name": "stdout",
     "output_type": "stream",
     "text": [
      "     Asset   Price  Volume  Sentiment_Score  Economic_Indicator1  \\\n",
      "0  Asset_1  992.55     335                1               399.92   \n",
      "1  Asset_2  362.57     256                0               825.12   \n",
      "2  Asset_3  868.29     296                1               610.86   \n",
      "3  Asset_4  262.93     404                0               337.55   \n",
      "4  Asset_5  796.55     235                1               117.45   \n",
      "\n",
      "   Economic_Indicator2  Risk_Factor1  Risk_Factor2 Order          Strategy  \\\n",
      "0              1067.00          0.05          0.34  sell  Position Trading   \n",
      "1               728.60          0.23          0.94   buy          Scalping   \n",
      "2               968.72          0.07          0.81   buy     Swing Trading   \n",
      "3              1440.47          0.09          0.24   buy          Scalping   \n",
      "4              1483.75          0.38          0.79   buy       Day Trading   \n",
      "\n",
      "   Portfolio_Weights  Return  Volatility  Sharpe_Ratio  \n",
      "0               0.11  0.0356      0.2653          0.52  \n",
      "1               0.54  0.0417      0.2978          0.31  \n",
      "2               0.19  0.0243      0.1851          0.25  \n",
      "3               0.44 -0.0282      0.4344          0.51  \n",
      "4               0.28  0.0219      0.1090          0.22  \n"
     ]
    }
   ],
   "source": [
    "del copied_df['Timestamp']\n",
    "print(copied_df.head())"
   ]
  },
  {
   "cell_type": "code",
   "execution_count": 29,
   "metadata": {},
   "outputs": [
    {
     "name": "stdout",
     "output_type": "stream",
     "text": [
      "     Asset   Price  Volume  Sentiment_Score  Economic_Indicator1  \\\n",
      "0  Asset_1  992.55     335                1               399.92   \n",
      "1  Asset_2  362.57     256                0               825.12   \n",
      "2  Asset_3  868.29     296                1               610.86   \n",
      "3  Asset_4  262.93     404                0               337.55   \n",
      "4  Asset_5  796.55     235                1               117.45   \n",
      "\n",
      "   Economic_Indicator2  Risk_Factor1  Risk_Factor2 Order  Strategy  \\\n",
      "0              1067.00          0.05          0.34  sell         2   \n",
      "1               728.60          0.23          0.94   buy         3   \n",
      "2               968.72          0.07          0.81   buy         4   \n",
      "3              1440.47          0.09          0.24   buy         3   \n",
      "4              1483.75          0.38          0.79   buy         1   \n",
      "\n",
      "   Portfolio_Weights  Return  Volatility  Sharpe_Ratio  \n",
      "0               0.11  0.0356      0.2653          0.52  \n",
      "1               0.54  0.0417      0.2978          0.31  \n",
      "2               0.19  0.0243      0.1851          0.25  \n",
      "3               0.44 -0.0282      0.4344          0.51  \n",
      "4               0.28  0.0219      0.1090          0.22  \n"
     ]
    },
    {
     "name": "stderr",
     "output_type": "stream",
     "text": [
      "C:\\Users\\HP\\AppData\\Local\\Temp\\ipykernel_4380\\1559588949.py:12: FutureWarning: Downcasting behavior in `replace` is deprecated and will be removed in a future version. To retain the old behavior, explicitly call `result.infer_objects(copy=False)`. To opt-in to the future behavior, set `pd.set_option('future.no_silent_downcasting', True)`\n",
      "  copied_df['Strategy'] = copied_df['Strategy'].replace(strategy_mapping)\n"
     ]
    }
   ],
   "source": [
    "\n",
    "strategy_mapping = {\n",
    "    'Day Trading': 1,\n",
    "    'Position Trading': 2,\n",
    "    'Scalping': 3,\n",
    "    'Swing Trading': 4\n",
    "}\n",
    "\n",
    "\n",
    "\n",
    "\n",
    "\n",
    "copied_df['Strategy'] = copied_df['Strategy'].replace(strategy_mapping)\n",
    "\n",
    "\n",
    "print(copied_df.head())\n"
   ]
  }
 ],
 "metadata": {
  "kernelspec": {
   "display_name": "Python 3",
   "language": "python",
   "name": "python3"
  },
  "language_info": {
   "codemirror_mode": {
    "name": "ipython",
    "version": 3
   },
   "file_extension": ".py",
   "mimetype": "text/x-python",
   "name": "python",
   "nbconvert_exporter": "python",
   "pygments_lexer": "ipython3",
   "version": "3.12.3"
  }
 },
 "nbformat": 4,
 "nbformat_minor": 2
}
