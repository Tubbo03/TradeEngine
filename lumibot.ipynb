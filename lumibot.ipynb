{
 "cells": [
  {
   "cell_type": "code",
   "execution_count": 1,
   "metadata": {},
   "outputs": [],
   "source": [
    "from lumibot.brokers import Alpaca\n"
   ]
  },
  {
   "cell_type": "code",
   "execution_count": 2,
   "metadata": {},
   "outputs": [],
   "source": [
    "from lumibot.backtesting import YahooDataBacktesting\n",
    "from lumibot.strategies.strategy import Strategy\n",
    "from lumibot.traders import Trader\n",
    "from datetime import datetime \n",
    "from alpaca_trade_api import REST \n",
    "from timedelta import Timedelta \n",
    "\n"
   ]
  },
  {
   "cell_type": "code",
   "execution_count": 19,
   "metadata": {},
   "outputs": [
    {
     "name": "stdout",
     "output_type": "stream",
     "text": [
      "Starting backtest for MLTrader...\n"
     ]
    },
    {
     "name": "stdout",
     "output_type": "stream",
     "text": [
      "Progress |\u001b[32m\u001b[0m|   2.47%  [Elapsed: 0:00:04 ETA: 0:02:57] [\"If You Invested $1,000 In Exxon Mobil When Joe Biden Was Elected President, Here's How Much You'd Have Today\", 'U.S. Senators Will Vote On Foreign Aid Supplemental Agreement Next Week', 'Traders May Need Frequent Portfolio Adjustments In 2024: BlackRock', 'U.S. Supreme Court Declines To Block Illinois Ban On Assault-Type Rifles And Large Capacity Magazines', \"US Stocks Eye 7-Day Winning Streak As Mortgage Rates Fall Below 7%, Yields Tumble: What's Driving Markets Thursday?\", 'Live On CNBC, SEC Chair Gary Gensler Discusses Bitcoin ETFs; Regulating Crypto', \"Live On CNBC, SEC Chair Gary Gensler Discusses The SEC's Latest Moves; Treasury Clearing; Regulating Artificial Intelligence\", \"U.S. House Of Representatives Passes $886B Defense Policy Bill 310 To 118, Sending Measure To White House For Biden's Signature\", 'Market Clubhouse Morning Memo - December 14th, 2023 (Trade Strategy For SPY, QQQ, AAPL, MSFT, TSLA, NVDA, GOOGL, And META)', 'USA Natural Gas Storage -55B Vs -54B Est.; -117B Prior']\n",
      "Progress |\u001b[32m\u001b[0m| 100.00%  [Elapsed: 0:00:06 ETA: 0:00:00] Portfolio Val: 100,944.04\n",
      "Creating trades plot...\n",
      "\n",
      "Creating indicators plot...\n",
      "\n",
      "Creating tearsheet...\n"
     ]
    },
    {
     "data": {
      "text/plain": [
       "{'cagr': 0.25708368926531966,\n",
       " 'volatility': 0.028190598556940217,\n",
       " 'sharpe': 7.258933860393335,\n",
       " 'max_drawdown': {'drawdown': 0.0027690901105407078,\n",
       "  'date': Timestamp('2023-12-21 09:30:00-0500', tz='America/New_York')},\n",
       " 'romad': 92.84049236488013,\n",
       " 'total_return': 0.00944036000000037}"
      ]
     },
     "execution_count": 19,
     "metadata": {},
     "output_type": "execute_result"
    }
   ],
   "source": [
    "API_KEY = \"PKUBXJUZ0GOMMG7IBSTP\"\n",
    "API_SECRET = \"SEM68sO2ECaNWKoFM2uG0jjltx7XfM7vJgNyNtQz\"\n",
    "BASE_URL = \"https://paper-api.alpaca.markets/v2\"\n",
    "\n",
    "ALPACA_CREDS = {\n",
    "    \"API_KEY\": API_KEY,\n",
    "    \"API_SECRET\": API_SECRET,\n",
    "    \"PAPER\": True\n",
    "\n",
    "}\n",
    "\n",
    "class MLTrader(Strategy):\n",
    "    def initialize(self,symbol:str=\"SPY\", cash_at_risk: float=0.5): #initialize method will run once\n",
    "        self.symbol = symbol\n",
    "        self.sleeptime = \"24H\" #how frequently we are gonna trade\n",
    "        self.last_trade = None #capture what the last trade is to undo our buys\n",
    "        self.cash_at_risk = cash_at_risk\n",
    "        self.api=REST(key_id=API_KEY,secret_key=API_SECRET,base_url=BASE_URL)\n",
    "\n",
    "    def position_sizing(self):\n",
    "        cash = self.get_cash()\n",
    "        last_price = self.get_last_price(self.symbol)\n",
    "        quantity = round(cash * self.cash_at_risk / last_price,0) #how much cash balance we use per trade\n",
    "        return cash,last_price, quantity\n",
    "    \n",
    "    def get_dates(self):\n",
    "        \n",
    "        today = self.get_datetime()\n",
    "        three_days_prior = today - Timedelta(days=3)\n",
    "        return today.strftime('%Y-%m-%d'), three_days_prior.strftime('%Y-%m-%d')\n",
    "    \n",
    "    def get_news(self):\n",
    "        today,three_days_prior = self.get_dates()\n",
    "        news = self.api.get_news(symbol=self.symbol, start=three_days_prior, end=today)    \n",
    "        news=[ev.__dict__[\"_raw\"][\"headline\"] for ev in news]\n",
    "        return news\n",
    "\n",
    "    def on_trading_iteration(self): #everytime we get a new data, execute the trade\n",
    "        cash,last_price, quantity=self.position_sizing()\n",
    "        \n",
    "        if cash>last_price:\n",
    "         if self.last_trade == None:\n",
    "            news = self.get_news()\n",
    "            print(news)\n",
    "            order = self.create_order(\n",
    "                self.symbol,\n",
    "                quantity,\n",
    "                \n",
    "                \n",
    "                \"buy\",\n",
    "                type=\"bracket\", \n",
    "                take_profit_price=last_price*1.05,\n",
    "                stop_loss_price=last_price*0.95\n",
    "            )\n",
    "            self.submit_order(order)\n",
    "            self.last_trade = \"buy\"\n",
    "\n",
    "\n",
    "start_date = datetime(2023,12,15)\n",
    "end_date = datetime(2023,12,31)\n",
    "\n",
    "broker = Alpaca(ALPACA_CREDS)\n",
    "strategy = MLTrader(name='mlstrat', broker=broker, parameters={\"symbol\":\"SPY\", \"cash at risk\": 0.5})\n",
    "\n",
    "strategy.backtest(\n",
    "    YahooDataBacktesting,\n",
    "    start_date,\n",
    "    end_date,\n",
    "    parameters={\"symbol\": \"SPY\"}\n",
    ")"
   ]
  }
 ],
 "metadata": {
  "kernelspec": {
   "display_name": "Python 3",
   "language": "python",
   "name": "python3"
  },
  "language_info": {
   "codemirror_mode": {
    "name": "ipython",
    "version": 3
   },
   "file_extension": ".py",
   "mimetype": "text/x-python",
   "name": "python",
   "nbconvert_exporter": "python",
   "pygments_lexer": "ipython3",
   "version": "3.11.9"
  }
 },
 "nbformat": 4,
 "nbformat_minor": 2
}
