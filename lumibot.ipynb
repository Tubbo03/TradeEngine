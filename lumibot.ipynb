{
 "cells": [
  {
   "cell_type": "code",
   "execution_count": 1,
   "metadata": {},
   "outputs": [],
   "source": [
    "from lumibot.brokers import Alpaca\n"
   ]
  },
  {
   "cell_type": "code",
   "execution_count": 8,
   "metadata": {},
   "outputs": [],
   "source": [
    "from lumibot.backtesting import YahooDataBacktesting\n",
    "from lumibot.strategies.strategy import Strategy\n",
    "from lumibot.traders import Trader\n",
    "from datetime import datetime \n",
    "from alpaca_trade_api import REST \n",
    "from timedelta import Timedelta \n"
   ]
  },
  {
   "cell_type": "code",
   "execution_count": 12,
   "metadata": {},
   "outputs": [
    {
     "ename": "ValueError",
     "evalue": "API_SECRET not found in config",
     "output_type": "error",
     "traceback": [
      "\u001b[1;31m---------------------------------------------------------------------------\u001b[0m",
      "\u001b[1;31mValueError\u001b[0m                                Traceback (most recent call last)",
      "Cell \u001b[1;32mIn[12], line 32\u001b[0m\n\u001b[0;32m     29\u001b[0m start_date \u001b[38;5;241m=\u001b[39m datetime(\u001b[38;5;241m2023\u001b[39m,\u001b[38;5;241m12\u001b[39m,\u001b[38;5;241m15\u001b[39m)\n\u001b[0;32m     30\u001b[0m end_date \u001b[38;5;241m=\u001b[39m datetime(\u001b[38;5;241m2023\u001b[39m,\u001b[38;5;241m12\u001b[39m,\u001b[38;5;241m31\u001b[39m)\n\u001b[1;32m---> 32\u001b[0m broker \u001b[38;5;241m=\u001b[39m \u001b[43mAlpaca\u001b[49m\u001b[43m(\u001b[49m\u001b[43mALPACA_CREDS\u001b[49m\u001b[43m)\u001b[49m\n\u001b[0;32m     33\u001b[0m strategy \u001b[38;5;241m=\u001b[39m MLTrader(name\u001b[38;5;241m=\u001b[39m\u001b[38;5;124m'\u001b[39m\u001b[38;5;124mmlstrat\u001b[39m\u001b[38;5;124m'\u001b[39m, broker\u001b[38;5;241m=\u001b[39mbroker, parameters\u001b[38;5;241m=\u001b[39m{\u001b[38;5;124m\"\u001b[39m\u001b[38;5;124msymbol\u001b[39m\u001b[38;5;124m\"\u001b[39m:\u001b[38;5;124m\"\u001b[39m\u001b[38;5;124mSPY\u001b[39m\u001b[38;5;124m\"\u001b[39m})\n\u001b[0;32m     35\u001b[0m strategy\u001b[38;5;241m.\u001b[39mbackset(\n\u001b[0;32m     36\u001b[0m     YahooDataBacktesting,\n\u001b[0;32m     37\u001b[0m     start_date,\n\u001b[0;32m     38\u001b[0m     end_date,\n\u001b[0;32m     39\u001b[0m     parameters\u001b[38;5;241m=\u001b[39m{\u001b[38;5;124m\"\u001b[39m\u001b[38;5;124msymbol\u001b[39m\u001b[38;5;124m\"\u001b[39m: \u001b[38;5;124m\"\u001b[39m\u001b[38;5;124mSPY\u001b[39m\u001b[38;5;124m\"\u001b[39m}\n\u001b[0;32m     40\u001b[0m )\n",
      "File \u001b[1;32mc:\\Program Files\\Python311\\Lib\\site-packages\\lumibot\\brokers\\alpaca.py:121\u001b[0m, in \u001b[0;36mAlpaca.__init__\u001b[1;34m(self, config, max_workers, chunk_size, connect_stream, data_source)\u001b[0m\n\u001b[0;32m    118\u001b[0m \u001b[38;5;28mself\u001b[39m\u001b[38;5;241m.\u001b[39m_update_attributes_from_config(config)\n\u001b[0;32m    120\u001b[0m \u001b[38;5;28;01mif\u001b[39;00m \u001b[38;5;129;01mnot\u001b[39;00m data_source:\n\u001b[1;32m--> 121\u001b[0m     data_source \u001b[38;5;241m=\u001b[39m \u001b[43mAlpacaData\u001b[49m\u001b[43m(\u001b[49m\u001b[43mconfig\u001b[49m\u001b[43m,\u001b[49m\u001b[43m \u001b[49m\u001b[43mmax_workers\u001b[49m\u001b[38;5;241;43m=\u001b[39;49m\u001b[43mmax_workers\u001b[49m\u001b[43m,\u001b[49m\u001b[43m \u001b[49m\u001b[43mchunk_size\u001b[49m\u001b[38;5;241;43m=\u001b[39;49m\u001b[43mchunk_size\u001b[49m\u001b[43m)\u001b[49m\n\u001b[0;32m    122\u001b[0m \u001b[38;5;28msuper\u001b[39m()\u001b[38;5;241m.\u001b[39m\u001b[38;5;21m__init__\u001b[39m(\n\u001b[0;32m    123\u001b[0m     name\u001b[38;5;241m=\u001b[39m\u001b[38;5;124m\"\u001b[39m\u001b[38;5;124malpaca\u001b[39m\u001b[38;5;124m\"\u001b[39m,\n\u001b[0;32m    124\u001b[0m     connect_stream\u001b[38;5;241m=\u001b[39mconnect_stream,\n\u001b[1;32m   (...)\u001b[0m\n\u001b[0;32m    127\u001b[0m     max_workers\u001b[38;5;241m=\u001b[39mmax_workers,\n\u001b[0;32m    128\u001b[0m )\n\u001b[0;32m    130\u001b[0m \u001b[38;5;28mself\u001b[39m\u001b[38;5;241m.\u001b[39mapi \u001b[38;5;241m=\u001b[39m TradingClient(\u001b[38;5;28mself\u001b[39m\u001b[38;5;241m.\u001b[39mapi_key, \u001b[38;5;28mself\u001b[39m\u001b[38;5;241m.\u001b[39mapi_secret, paper\u001b[38;5;241m=\u001b[39m\u001b[38;5;28mself\u001b[39m\u001b[38;5;241m.\u001b[39mis_paper)\n",
      "File \u001b[1;32mc:\\Program Files\\Python311\\Lib\\site-packages\\lumibot\\data_sources\\alpaca_data.py:105\u001b[0m, in \u001b[0;36mAlpacaData.__init__\u001b[1;34m(self, config, max_workers, chunk_size)\u001b[0m\n\u001b[0;32m    103\u001b[0m     \u001b[38;5;28mself\u001b[39m\u001b[38;5;241m.\u001b[39mapi_secret \u001b[38;5;241m=\u001b[39m config\u001b[38;5;241m.\u001b[39mAPI_SECRET\n\u001b[0;32m    104\u001b[0m \u001b[38;5;28;01melse\u001b[39;00m:\n\u001b[1;32m--> 105\u001b[0m     \u001b[38;5;28;01mraise\u001b[39;00m \u001b[38;5;167;01mValueError\u001b[39;00m(\u001b[38;5;124m\"\u001b[39m\u001b[38;5;124mAPI_SECRET not found in config\u001b[39m\u001b[38;5;124m\"\u001b[39m)\n\u001b[0;32m    107\u001b[0m \u001b[38;5;66;03m# If an ENDPOINT is provided, warn the user that it is not used anymore\u001b[39;00m\n\u001b[0;32m    108\u001b[0m \u001b[38;5;66;03m# Instead they should use the \"PAPER\" parameter, which is boolean\u001b[39;00m\n\u001b[0;32m    109\u001b[0m \u001b[38;5;28;01mif\u001b[39;00m \u001b[38;5;28misinstance\u001b[39m(config, \u001b[38;5;28mdict\u001b[39m) \u001b[38;5;129;01mand\u001b[39;00m \u001b[38;5;124m\"\u001b[39m\u001b[38;5;124mENDPOINT\u001b[39m\u001b[38;5;124m\"\u001b[39m \u001b[38;5;129;01min\u001b[39;00m config:\n",
      "\u001b[1;31mValueError\u001b[0m: API_SECRET not found in config"
     ]
    }
   ],
   "source": [
    "API_KEY = \"PK0QK71SRTKUJU9YQKZM\"\n",
    "API_SECRET = \" ZUk6hZAVvqedBRQpPuh2SlwsZu0dBwSw5hxwxu2a\"\n",
    "BASE_URL = \"https://paper-api.alpaca.markets/v2\"\n",
    "\n",
    "ALPACA_CREDS = {\n",
    "    \"API_KEY\": API_KEY,\n",
    "    \"API_SCRET\": API_SECRET,\n",
    "    \"PAPER\": True\n",
    "\n",
    "}\n",
    "\n",
    "class MLTrader(Strategy):\n",
    "    def initialize(self,symbol:str=\"SPY\"): #initialoze method will run once\n",
    "        self.symbol = symbol\n",
    "        self.sleeptime = \"24H\" #how frequently we are gonna trade\n",
    "        self.last_trade = None #capture what the last trade is to undo our buys\n",
    "    def on_trading_iteration(self): #everytime we get a new data, execute the trade\n",
    "        if self.last_trade == None:\n",
    "            oreder = self.create_order(\n",
    "                self.symbol,\n",
    "                10,\n",
    "                \"buy\",\n",
    "                type=\"market\"\n",
    "            )\n",
    "            self.submit_order(order)\n",
    "            self.last_trade - \"buy\"\n",
    "\n",
    "\n",
    "start_date = datetime(2023,12,15)\n",
    "end_date = datetime(2023,12,31)\n",
    "\n",
    "broker = Alpaca(ALPACA_CREDS)\n",
    "strategy = MLTrader(name='mlstrat', broker=broker, parameters={\"symbol\":\"SPY\"})\n",
    "\n",
    "strategy.backset(\n",
    "    YahooDataBacktesting,\n",
    "    start_date,\n",
    "    end_date,\n",
    "    parameters={\"symbol\": \"SPY\"}\n",
    ")"
   ]
  }
 ],
 "metadata": {
  "kernelspec": {
   "display_name": "Python 3",
   "language": "python",
   "name": "python3"
  },
  "language_info": {
   "codemirror_mode": {
    "name": "ipython",
    "version": 3
   },
   "file_extension": ".py",
   "mimetype": "text/x-python",
   "name": "python",
   "nbconvert_exporter": "python",
   "pygments_lexer": "ipython3",
   "version": "3.11.9"
  }
 },
 "nbformat": 4,
 "nbformat_minor": 2
}
