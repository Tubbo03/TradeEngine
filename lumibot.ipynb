{
 "cells": [
  {
   "cell_type": "code",
   "execution_count": 1,
   "metadata": {},
   "outputs": [],
   "source": [
    "from lumibot.brokers import Alpaca\n"
   ]
  },
  {
   "cell_type": "code",
   "execution_count": 22,
   "metadata": {},
   "outputs": [
    {
     "name": "stderr",
     "output_type": "stream",
     "text": [
      "c:\\Program Files\\Python311\\Lib\\site-packages\\tqdm\\auto.py:21: TqdmWarning:\n",
      "\n",
      "IProgress not found. Please update jupyter and ipywidgets. See https://ipywidgets.readthedocs.io/en/stable/user_install.html\n",
      "\n"
     ]
    }
   ],
   "source": [
    "from lumibot.backtesting import YahooDataBacktesting\n",
    "from lumibot.strategies.strategy import Strategy\n",
    "from lumibot.traders import Trader\n",
    "from datetime import datetime \n",
    "from alpaca_trade_api import REST \n",
    "from timedelta import Timedelta \n",
    "from filbert_utils import estimate_sentiment\n",
    "\n"
   ]
  },
  {
   "cell_type": "code",
   "execution_count": 29,
   "metadata": {},
   "outputs": [
    {
     "name": "stdout",
     "output_type": "stream",
     "text": [
      "Starting backtest for MLTrader...\n",
      "Progress |\u001b[32m\u001b[0m|  21.00%  [Elapsed: 0:06:11 ETA: 0:23:16] Portfolio Val: 100,000.00"
     ]
    },
    {
     "ename": "",
     "evalue": "",
     "output_type": "error",
     "traceback": [
      "\u001b[1;31mCannot execute code, session has been disposed. Please try restarting the Kernel."
     ]
    },
    {
     "ename": "",
     "evalue": "",
     "output_type": "error",
     "traceback": [
      "\u001b[1;31mCannot execute code, session has been disposed. Please try restarting the Kernel. \n",
      "\u001b[1;31mView Jupyter <a href='command:jupyter.viewOutput'>log</a> for further details."
     ]
    }
   ],
   "source": [
    "API_KEY = \"PKUBXJUZ0GOMMG7IBSTP\"\n",
    "API_SECRET = \"SEM68sO2ECaNWKoFM2uG0jjltx7XfM7vJgNyNtQz\"\n",
    "BASE_URL = \"https://paper-api.alpaca.markets/v2\"\n",
    "\n",
    "ALPACA_CREDS = {\n",
    "    \"API_KEY\": API_KEY,\n",
    "    \"API_SECRET\": API_SECRET,\n",
    "    \"PAPER\": True\n",
    "\n",
    "}\n",
    "\n",
    "class MLTrader(Strategy):\n",
    "    def initialize(self,symbol:str=\"SPY\", cash_at_risk: float=0.5): #initialize method will run once\n",
    "        self.symbol = symbol\n",
    "        self.sleeptime = \"24H\" #how frequently we are gonna trade\n",
    "        self.last_trade = None #capture what the last trade is to undo our buys\n",
    "        self.cash_at_risk = cash_at_risk\n",
    "        self.api=REST(key_id=API_KEY,secret_key=API_SECRET,base_url=BASE_URL)\n",
    "\n",
    "    def position_sizing(self):\n",
    "        cash = self.get_cash()\n",
    "        last_price = self.get_last_price(self.symbol)\n",
    "        quantity = round(cash * self.cash_at_risk / last_price,0) #how much cash balance we use per trade\n",
    "        return cash,last_price, quantity\n",
    "    \n",
    "    def get_dates(self):\n",
    "        \n",
    "        today = self.get_datetime()\n",
    "        three_days_prior = today - Timedelta(days=3)\n",
    "        return today.strftime('%Y-%m-%d'), three_days_prior.strftime('%Y-%m-%d')\n",
    "    \n",
    "    def get_sentiment(self):\n",
    "        today,three_days_prior = self.get_dates()\n",
    "        news = self.api.get_news(symbol=self.symbol, start=three_days_prior, end=today)    \n",
    "        news=[ev.__dict__[\"_raw\"][\"headline\"] for ev in news]\n",
    "        probablity, sentiment = estimate_sentiment(news)\n",
    "        return probablity, sentiment\n",
    "\n",
    "    def on_trading_iteration(self): #everytime we get a new data, execute the trade\n",
    "        cash,last_price, quantity=self.position_sizing()\n",
    "        probablity, sentiment = self.get_sentiment()\n",
    "        \n",
    "        if cash>last_price:\n",
    "          if sentiment  == \"positive\" and probablity > .999:\n",
    "            if self.last_order == \"sell\":\n",
    "                self.sell_all()\n",
    "              \n",
    "            \n",
    "            \n",
    "            order = self.create_order(\n",
    "                self.symbol,\n",
    "                quantity,\n",
    "                \n",
    "                \n",
    "                \"buy\",\n",
    "                type=\"bracket\", \n",
    "                take_profit_price=last_price*1.05,\n",
    "                stop_loss_price=last_price*0.95\n",
    "            )\n",
    "            self.submit_order(order)\n",
    "            self.last_trade = \"buy\" \n",
    "        \n",
    "        elif sentiment  == \"negative\" and probablity > .999:\n",
    "            if self.last_trade == \"sell\":\n",
    "                self.sell_all()\n",
    "              \n",
    "            \n",
    "            \n",
    "            order = self.create_order(\n",
    "                self.symbol,\n",
    "                quantity,\n",
    "                \n",
    "                \n",
    "                \"sell\",\n",
    "                type=\"bracket\", \n",
    "                take_profit_price=last_price*0.8,\n",
    "                stop_loss_price=last_price*1.05\n",
    "            )\n",
    "            self.submit_order(order)\n",
    "            self.last_trade = \"sell\"    \n",
    "\n",
    "\n",
    "start_date = datetime(2020,12,15)\n",
    "end_date = datetime(2023,12,31)\n",
    "\n",
    "broker = Alpaca(ALPACA_CREDS)\n",
    "strategy = MLTrader(name='mlstrat', broker=broker, parameters={\"symbol\":\"SPY\", \"cash at risk\": 0.5})\n",
    "\n",
    "strategy.backtest(\n",
    "    YahooDataBacktesting,\n",
    "    start_date,\n",
    "    end_date,\n",
    "    parameters={\"symbol\": \"SPY\"}\n",
    ")"
   ]
  }
 ],
 "metadata": {
  "kernelspec": {
   "display_name": "Python 3",
   "language": "python",
   "name": "python3"
  },
  "language_info": {
   "codemirror_mode": {
    "name": "ipython",
    "version": 3
   },
   "file_extension": ".py",
   "mimetype": "text/x-python",
   "name": "python",
   "nbconvert_exporter": "python",
   "pygments_lexer": "ipython3",
   "version": "3.11.9"
  }
 },
 "nbformat": 4,
 "nbformat_minor": 2
}
